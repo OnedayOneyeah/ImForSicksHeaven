{
 "cells": [
  {
   "cell_type": "code",
   "execution_count": 1,
   "id": "c6f82c3f",
   "metadata": {},
   "outputs": [],
   "source": [
    "import pandas as pd\n",
    "import datetime as dt\n",
    "import numpy as np\n",
    "from dateutil.relativedelta import relativedelta"
   ]
  },
  {
   "cell_type": "code",
   "execution_count": 169,
   "id": "4168294e",
   "metadata": {},
   "outputs": [],
   "source": [
    "air = pd.read_csv('./data/air.csv', engine = 'python', encoding='utf-8', index_col=0)\n",
    "pop = pd.read_csv('./data/clean.csv', engine = 'python', encoding='utf-8', index_col=0)\n",
    "covid = pd.read_csv('./data/covid_cleaned.csv', engine = 'python', encoding='utf-8', index_col=0)\n",
    "demand = pd.read_csv('./data/demand_month.csv', engine = 'python', encoding='utf-8', index_col=0)\n",
    "kwrds = pd.read_csv('./data/kwrds_cleaned.csv', engine = 'python', encoding='utf-8', index_col=0)\n",
    "kwrds2 = pd.read_csv('./data/kwrds_2_cleaned.csv', engine = 'python', encoding='utf-8', index_col=0)\n",
    "mvpop = pd.read_csv('./data/mvpop.csv', engine = 'python', encoding='utf-8', index_col=0)\n",
    "people = pd.read_csv('./data/people_total_cleaned.csv', engine = 'python', encoding='utf-8', index_col=0)\n",
    "male = pd.read_csv('./data/people_male_cleaned.csv', engine = 'python', encoding='utf-8', index_col=0)\n",
    "female = pd.read_csv('./data/people_female_cleaned.csv', engine = 'python', encoding='utf-8', index_col=0)\n",
    "distance = pd.read_csv('./data/social_distance_cleaned.csv', engine = 'python', encoding='utf-8', index_col=0)\n",
    "station = pd.read_csv('./data/station_cleaned.csv', engine = 'python', encoding='utf-8', index_col=0)\n",
    "weather = pd.read_csv('./data/weather_cleaned.csv', engine = 'python', encoding='utf-8', index_col=0)"
   ]
  },
  {
   "cell_type": "code",
   "execution_count": 319,
   "id": "42d03974",
   "metadata": {},
   "outputs": [],
   "source": [
    "data_list = [air, pop, covid, demand, kwrds, kwrds2, mvpop, people, male, female, distance, station, weather]"
   ]
  },
  {
   "cell_type": "code",
   "execution_count": 252,
   "id": "422b59fe",
   "metadata": {},
   "outputs": [
    {
     "name": "stdout",
     "output_type": "stream",
     "text": [
      "1461\n",
      "1461\n",
      "1461\n",
      "1461\n",
      "1461\n",
      "1461\n",
      "1461\n",
      "1461\n",
      "1461\n",
      "1461\n",
      "1461\n",
      "1461\n",
      "1461\n"
     ]
    }
   ],
   "source": [
    "for data in data_list:\n",
    "    print(data.shape[0])"
   ]
  },
  {
   "cell_type": "markdown",
   "id": "513c45d3",
   "metadata": {},
   "source": [
    "air: 지역별  \n",
    "pop: 지역별  \n",
    "covid: 지역별 (total, new 구분)  \n",
    "demand: 월별로 되어 있어 처리 필요  \n",
    "kwrds, kwrds2: 전체  \n",
    "mvpop: 지역별  \n",
    "people, male, female: 지역별  \n",
    "distance: 전체, 날짜 처리 필요, 열 삭제 필요  \n",
    "station: 지역별, 날짜 처리 필요, 컬럼명 변경 필요  \n",
    "weather: 전체  "
   ]
  },
  {
   "cell_type": "markdown",
   "id": "a7463467",
   "metadata": {},
   "source": [
    "# Data Cleaning"
   ]
  },
  {
   "cell_type": "markdown",
   "id": "8c11aa40",
   "metadata": {},
   "source": [
    "## demand"
   ]
  },
  {
   "cell_type": "code",
   "execution_count": 172,
   "id": "5ebb4c2e",
   "metadata": {},
   "outputs": [],
   "source": [
    "demand.reset_index(inplace=True)"
   ]
  },
  {
   "cell_type": "code",
   "execution_count": 173,
   "id": "6c8de1ad",
   "metadata": {},
   "outputs": [],
   "source": [
    "demand.month = demand['month'].astype(str)\n",
    "demand.month = demand['month'].apply(lambda e: dt.datetime.strptime(e, \"%Y%m\"))"
   ]
  },
  {
   "cell_type": "code",
   "execution_count": 174,
   "id": "28f2c689",
   "metadata": {},
   "outputs": [],
   "source": [
    "demand.set_index('month', drop=True, inplace=True)"
   ]
  },
  {
   "cell_type": "code",
   "execution_count": 245,
   "id": "ee8fdf7a",
   "metadata": {},
   "outputs": [],
   "source": [
    "df = pd.DataFrame(index = pd.date_range('2018-01-01', '2021-12-31'), columns={'GW', 'DDM', 'SD', 'JL', 'sum'})\n",
    "df = df[['GW', 'DDM', 'SD', 'JL', 'sum']]"
   ]
  },
  {
   "cell_type": "code",
   "execution_count": 210,
   "id": "98a9e8c3",
   "metadata": {},
   "outputs": [],
   "source": [
    "for date_df, data_df in df.iterrows():\n",
    "    for date_demand, data_demand in demand.iterrows():\n",
    "        if date_df.year == date_demand.year and date_df.month == date_demand.month:\n",
    "            data_df = data_demand.values"
   ]
  },
  {
   "cell_type": "code",
   "execution_count": 221,
   "id": "48562918",
   "metadata": {},
   "outputs": [],
   "source": [
    "def substitute(df1, col1, df2, col2):\n",
    "    for i_df1, row_df1 in df1.iterrows():\n",
    "        for i_df2, row_df2 in df2.iterrows():\n",
    "            if i_df1.year == i_df2.year and i_df1.month == i_df2.month:\n",
    "                val = row_df2[col2]\n",
    "                df.loc[i_df1, col1] = val"
   ]
  },
  {
   "cell_type": "code",
   "execution_count": 246,
   "id": "0a016d72",
   "metadata": {},
   "outputs": [],
   "source": [
    "substitute(df, 'GW', demand, 'GW')\n",
    "substitute(df, 'DDM', demand, 'DDM')\n",
    "substitute(df, 'SD', demand, 'SD')\n",
    "substitute(df, 'JL', demand, 'JL')\n",
    "substitute(df, 'sum', demand, 'sum')"
   ]
  },
  {
   "cell_type": "code",
   "execution_count": 247,
   "id": "31090858",
   "metadata": {},
   "outputs": [],
   "source": [
    "demand = df"
   ]
  },
  {
   "cell_type": "markdown",
   "id": "711cbe69",
   "metadata": {},
   "source": [
    "## distance"
   ]
  },
  {
   "cell_type": "code",
   "execution_count": 175,
   "id": "d3872ffc",
   "metadata": {},
   "outputs": [],
   "source": [
    "distance.drop('Unnamed: 5', axis=1, inplace=True)\n",
    "distance.drop('Unnamed: 6', axis=1, inplace=True)\n",
    "distance.drop('Unnamed: 7', axis=1, inplace=True)\n",
    "distance.drop('Unnamed: 8', axis=1, inplace=True)\n",
    "distance.drop('Unnamed: 9', axis=1, inplace=True)"
   ]
  },
  {
   "cell_type": "code",
   "execution_count": 176,
   "id": "6fb9a8e2",
   "metadata": {},
   "outputs": [],
   "source": [
    "distance.reset_index(inplace=True)\n",
    "\n",
    "distance.date = distance['date'].astype(str)\n",
    "distance.date = distance['date'].apply(lambda e: dt.datetime.strptime(e, \"%Y%m%d\"))\n",
    "\n",
    "distance.set_index('date', drop=True, inplace=True)"
   ]
  },
  {
   "cell_type": "markdown",
   "id": "106a98cd",
   "metadata": {},
   "source": [
    "## station"
   ]
  },
  {
   "cell_type": "code",
   "execution_count": 177,
   "id": "bb1311f9",
   "metadata": {},
   "outputs": [
    {
     "name": "stderr",
     "output_type": "stream",
     "text": [
      "/var/folders/b3/zcggl_2158g9z4k11vk_wckw0000gn/T/ipykernel_77404/1087275548.py:6: SettingWithCopyWarning: \n",
      "A value is trying to be set on a copy of a slice from a DataFrame.\n",
      "Try using .loc[row_indexer,col_indexer] = value instead\n",
      "\n",
      "See the caveats in the documentation: https://pandas.pydata.org/pandas-docs/stable/user_guide/indexing.html#returning-a-view-versus-a-copy\n",
      "  station.date = station['date'].astype(str)\n",
      "/var/folders/b3/zcggl_2158g9z4k11vk_wckw0000gn/T/ipykernel_77404/1087275548.py:7: SettingWithCopyWarning: \n",
      "A value is trying to be set on a copy of a slice from a DataFrame.\n",
      "Try using .loc[row_indexer,col_indexer] = value instead\n",
      "\n",
      "See the caveats in the documentation: https://pandas.pydata.org/pandas-docs/stable/user_guide/indexing.html#returning-a-view-versus-a-copy\n",
      "  station.date = station['date'].apply(lambda e: dt.datetime.strptime(e, \"%m/%d/%Y\"))\n"
     ]
    }
   ],
   "source": [
    "station.columns = ['JL', 'GW', 'SD', 'DDM', 'four_districts_total']\n",
    "station = station[['GW', 'DDM', 'SD', 'JL', 'four_districts_total']]\n",
    "\n",
    "station.reset_index(inplace=True)\n",
    "\n",
    "station.date = station['date'].astype(str)\n",
    "station.date = station['date'].apply(lambda e: dt.datetime.strptime(e, \"%m/%d/%Y\"))\n",
    "\n",
    "station.set_index('date', drop=True, inplace=True)"
   ]
  },
  {
   "cell_type": "markdown",
   "id": "4e00f488",
   "metadata": {},
   "source": [
    "## 나머지 index datatype 바꿔주기"
   ]
  },
  {
   "cell_type": "code",
   "execution_count": 320,
   "id": "6bae0d8e",
   "metadata": {},
   "outputs": [
    {
     "name": "stdout",
     "output_type": "stream",
     "text": [
      "<class 'pandas.core.indexes.base.Index'>\n",
      "<class 'pandas.core.indexes.base.Index'>\n",
      "<class 'pandas.core.indexes.base.Index'>\n",
      "<class 'pandas.core.indexes.datetimes.DatetimeIndex'>\n",
      "<class 'pandas.core.indexes.base.Index'>\n",
      "<class 'pandas.core.indexes.base.Index'>\n",
      "<class 'pandas.core.indexes.base.Index'>\n",
      "<class 'pandas.core.indexes.base.Index'>\n",
      "<class 'pandas.core.indexes.base.Index'>\n",
      "<class 'pandas.core.indexes.base.Index'>\n",
      "<class 'pandas.core.indexes.datetimes.DatetimeIndex'>\n",
      "<class 'pandas.core.indexes.datetimes.DatetimeIndex'>\n",
      "<class 'pandas.core.indexes.base.Index'>\n"
     ]
    }
   ],
   "source": [
    "for data in data_list:\n",
    "    print(type(data.index))"
   ]
  },
  {
   "cell_type": "code",
   "execution_count": 321,
   "id": "38baba6c",
   "metadata": {},
   "outputs": [],
   "source": [
    "# demand, distance, station 제외하고 나머지 datatype 바꿔줘야 함."
   ]
  },
  {
   "cell_type": "code",
   "execution_count": 341,
   "id": "b98286ec",
   "metadata": {
    "scrolled": true
   },
   "outputs": [],
   "source": [
    "# air, kwrds2 인덱스 컬럼명 'date'로 변환\n",
    "\n",
    "air.index.name = 'date'\n",
    "kwrds2.index.name = 'date'"
   ]
  },
  {
   "cell_type": "code",
   "execution_count": 322,
   "id": "76684140",
   "metadata": {},
   "outputs": [],
   "source": [
    "excluded_list = [air, pop, covid, kwrds, kwrds2, mvpop, people, male, female, weather]"
   ]
  },
  {
   "cell_type": "code",
   "execution_count": 345,
   "id": "50871c61",
   "metadata": {},
   "outputs": [],
   "source": [
    "for data in excluded_list:\n",
    "    data.reset_index(inplace=True)\n",
    "\n",
    "    data.date = data['date'].astype(str)\n",
    "    data.date = data['date'].apply(lambda e: dt.datetime.strptime(e, \"%Y-%m-%d\"))\n",
    "    \n",
    "    data.set_index('date', drop=True, inplace=True)"
   ]
  },
  {
   "cell_type": "code",
   "execution_count": 346,
   "id": "e9f36416",
   "metadata": {},
   "outputs": [
    {
     "name": "stdout",
     "output_type": "stream",
     "text": [
      "<class 'pandas.core.indexes.datetimes.DatetimeIndex'>\n",
      "<class 'pandas.core.indexes.datetimes.DatetimeIndex'>\n",
      "<class 'pandas.core.indexes.datetimes.DatetimeIndex'>\n",
      "<class 'pandas.core.indexes.datetimes.DatetimeIndex'>\n",
      "<class 'pandas.core.indexes.datetimes.DatetimeIndex'>\n",
      "<class 'pandas.core.indexes.datetimes.DatetimeIndex'>\n",
      "<class 'pandas.core.indexes.datetimes.DatetimeIndex'>\n",
      "<class 'pandas.core.indexes.datetimes.DatetimeIndex'>\n",
      "<class 'pandas.core.indexes.datetimes.DatetimeIndex'>\n",
      "<class 'pandas.core.indexes.datetimes.DatetimeIndex'>\n",
      "<class 'pandas.core.indexes.datetimes.DatetimeIndex'>\n",
      "<class 'pandas.core.indexes.datetimes.DatetimeIndex'>\n",
      "<class 'pandas.core.indexes.datetimes.DatetimeIndex'>\n"
     ]
    }
   ],
   "source": [
    "for data in data_list:\n",
    "    print(type(data.index))"
   ]
  },
  {
   "cell_type": "markdown",
   "id": "b50c3997",
   "metadata": {},
   "source": [
    "# merge"
   ]
  },
  {
   "cell_type": "code",
   "execution_count": 359,
   "id": "40c09725",
   "metadata": {},
   "outputs": [],
   "source": [
    "df_merge = pd.DataFrame(index = pd.date_range('2018-01-01', '2021-12-31'), columns=[[\n",
    "    'GW', 'GW', 'GW', 'GW', 'GW', 'GW', 'GW', 'GW', 'GW', 'GW', \n",
    "    'DDM', 'DDM', 'DDM', 'DDM', 'DDM', 'DDM', 'DDM', 'DDM', 'DDM', 'DDM', \n",
    "    'SD', 'SD', 'SD', 'SD', 'SD', 'SD', 'SD', 'SD', 'SD', 'SD', \n",
    "    'JL', 'JL', 'JL', 'JL', 'JL', 'JL', 'JL', 'JL', 'JL', 'JL', \n",
    "    'total', 'total', 'total', 'total', 'total', 'total', 'total', 'total', 'total', 'total', 'total', 'total', 'total', 'total', 'total', 'total'\n",
    "],[\n",
    "    'air', 'real_pop', 'pop', 'pop_male', 'pop_female', 'mvpop', 'covid_total', 'covid_new', 'new_user', 'station', \n",
    "    'air', 'real_pop', 'pop', 'pop_male', 'pop_female', 'mvpop', 'covid_total', 'covid_new', 'new_user', 'station', \n",
    "    'air', 'real_pop', 'pop', 'pop_male', 'pop_female', 'mvpop', 'covid_total', 'covid_new', 'new_user', 'station', \n",
    "    'air', 'real_pop', 'pop', 'pop_male', 'pop_female', 'mvpop', 'covid_total', 'covid_new', 'new_user', 'station', \n",
    "    '다이어트', '운동', '헬시플레저', '환경', '그린', '대기오염', '미세먼지', 'temp_avg', 'temp_low', 'temp_high', 'rain(mm)', 'relative_humidity', 'distance_stage', 'distance_total', 'distance_value', 'distance_nominal' \n",
    "]])"
   ]
  },
  {
   "cell_type": "code",
   "execution_count": 347,
   "id": "b563ec68",
   "metadata": {},
   "outputs": [],
   "source": [
    "def substitute2(df1, col1, df2, col2):\n",
    "    for i_df1, row_df1 in df1.iterrows():\n",
    "        for i_df2, row_df2 in df2.iterrows():\n",
    "            if i_df1 == i_df2:\n",
    "                val = row_df2[col2]\n",
    "                df1.loc[i_df1, col1] = val"
   ]
  },
  {
   "cell_type": "code",
   "execution_count": 348,
   "id": "38421d42",
   "metadata": {},
   "outputs": [],
   "source": [
    "substitute2(df_merge, ('GW', 'air'), air, 'GW')"
   ]
  },
  {
   "cell_type": "code",
   "execution_count": 352,
   "id": "2006f443",
   "metadata": {},
   "outputs": [],
   "source": [
    "district_list = ['GW', 'DDM', 'SD', 'JL']"
   ]
  },
  {
   "cell_type": "code",
   "execution_count": 363,
   "id": "eb5c40ef",
   "metadata": {},
   "outputs": [],
   "source": [
    "for district in district_list:\n",
    "    substitute2(df_merge, (district, 'air'), air, district)\n",
    "    substitute2(df_merge, (district, 'real_pop'), pop, district)\n",
    "    substitute2(df_merge, (district, 'pop'), people, district)\n",
    "    substitute2(df_merge, (district, 'pop_male'), male, district)\n",
    "    substitute2(df_merge, (district, 'pop_female'), female, district)\n",
    "    substitute2(df_merge, (district, 'mvpop'), mvpop, district)\n",
    "    substitute2(df_merge, (district, 'new_user'), demand, district)\n",
    "    substitute2(df_merge, (district, 'station'), station, district)"
   ]
  },
  {
   "cell_type": "code",
   "execution_count": 368,
   "id": "98c6f869",
   "metadata": {},
   "outputs": [],
   "source": [
    "substitute2(df_merge, ('GW', 'covid_total'), covid, 'GW_total')\n",
    "substitute2(df_merge, ('GW', 'covid_new'), covid, 'GW_new')\n",
    "\n",
    "substitute2(df_merge, ('DDM', 'covid_total'), covid, 'DDM_total')\n",
    "substitute2(df_merge, ('DDM', 'covid_new'), covid, 'DDM_new')\n",
    "\n",
    "substitute2(df_merge, ('SD', 'covid_total'), covid, 'SD_total')\n",
    "substitute2(df_merge, ('SD', 'covid_new'), covid, 'SD_new')\n",
    "\n",
    "substitute2(df_merge, ('JL', 'covid_total'), covid, 'JL_total')\n",
    "substitute2(df_merge, ('JL', 'covid_new'), covid, 'JL_new')"
   ]
  },
  {
   "cell_type": "code",
   "execution_count": 367,
   "id": "50f4c84c",
   "metadata": {},
   "outputs": [],
   "source": [
    "kwrds_col_list = ['다이어트', '운동', '헬시플레저']\n",
    "kwrds2_col_list = ['환경', '그린', '대기오염', '미세먼지']\n",
    "weather_col_list = ['temp_avg', 'temp_low', 'temp_high', 'rain(mm)', 'relative_humidity']\n",
    "distance_col_list = ['distance_stage', 'distance_total', 'distance_value', 'distance_nominal']"
   ]
  },
  {
   "cell_type": "code",
   "execution_count": 373,
   "id": "0e0135de",
   "metadata": {},
   "outputs": [],
   "source": [
    "for col in kwrds_col_list:\n",
    "    substitute2(df_merge, ('total', col), kwrds, col)\n",
    "\n",
    "for col in kwrds2_col_list:\n",
    "    substitute2(df_merge, ('total', col), kwrds2, col)\n",
    "    \n",
    "for col in weather_col_list:\n",
    "    substitute2(df_merge, ('total', col), weather, col)\n",
    "    \n",
    "substitute2(df_merge, ('total', 'distance_stage'), distance, 'stage')\n",
    "substitute2(df_merge, ('total', 'distance_total'), distance, 'total_stage')\n",
    "substitute2(df_merge, ('total', 'distance_value'), distance, 'value')\n",
    "substitute2(df_merge, ('total', 'distance_nominal'), distance, 'stage_nominal')"
   ]
  },
  {
   "cell_type": "code",
   "execution_count": 374,
   "id": "1ad512ae",
   "metadata": {},
   "outputs": [],
   "source": [
    "df_merge.to_csv('./data_merged.csv')"
   ]
  }
 ],
 "metadata": {
  "kernelspec": {
   "display_name": "Python 3 (ipykernel)",
   "language": "python",
   "name": "python3"
  },
  "language_info": {
   "codemirror_mode": {
    "name": "ipython",
    "version": 3
   },
   "file_extension": ".py",
   "mimetype": "text/x-python",
   "name": "python",
   "nbconvert_exporter": "python",
   "pygments_lexer": "ipython3",
   "version": "3.9.13"
  }
 },
 "nbformat": 4,
 "nbformat_minor": 5
}

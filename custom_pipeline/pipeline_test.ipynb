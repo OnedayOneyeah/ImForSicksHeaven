{
 "cells": [
  {
   "attachments": {},
   "cell_type": "markdown",
   "metadata": {},
   "source": [
    "# 공용 함수\n",
    "- 수정하지 않는 것을 추천드립니다"
   ]
  },
  {
   "cell_type": "code",
   "execution_count": 1,
   "metadata": {},
   "outputs": [],
   "source": [
    "from jy import get_all\n",
    "import pandas as pd\n",
    "from neuralprophet import NeuralProphet"
   ]
  },
  {
   "cell_type": "code",
   "execution_count": 2,
   "metadata": {},
   "outputs": [],
   "source": [
    "# 상대경로 지정 없이 원본 csv 임포트\n",
    "main_df = get_all()\n",
    "main_df_columns = main_df.columns\n",
    "date_df = main_df.loc[:,\"date\"]"
   ]
  },
  {
   "cell_type": "code",
   "execution_count": 3,
   "metadata": {},
   "outputs": [],
   "source": [
    "# 각 지역구와 관련된 변수들\n",
    "# common은 지역 구분 없는 전체 변수\n",
    "gw_vars = main_df.loc[:,main_df_columns[2:9]]\n",
    "ddm_vars = main_df.loc[:,main_df_columns[9:16]]\n",
    "sd_vars = main_df.loc[:,main_df_columns[16:23]]\n",
    "jl_vars = main_df.loc[:,main_df_columns[23:30]]\n",
    "common_vars = main_df.loc[:,main_df_columns[30:46]]"
   ]
  },
  {
   "cell_type": "code",
   "execution_count": 4,
   "metadata": {},
   "outputs": [],
   "source": [
    "# 각 지역구의 따릉이 수요량 \n",
    "gw_demand=main_df.loc[:,main_df_columns[46]]\n",
    "ddm_demand=main_df.loc[:,main_df_columns[47]]\n",
    "sd_demand=main_df.loc[:,main_df_columns[48]]\n",
    "jl_demand=main_df.loc[:,main_df_columns[49]]"
   ]
  },
  {
   "cell_type": "code",
   "execution_count": 5,
   "metadata": {},
   "outputs": [],
   "source": [
    "# 날짜와 수요량 컬럼을 원하는 대로 정리해주는 함수\n",
    "def create_y (df_demand, date_name, y_name):\n",
    "    result = pd.concat([date_df, df_demand], axis=1)\n",
    "    result = result.rename(columns={\"date\":date_name, result.columns[1]:y_name})\n",
    "    return result"
   ]
  },
  {
   "cell_type": "code",
   "execution_count": 6,
   "metadata": {},
   "outputs": [],
   "source": [
    "# 변수들을 일부 샘플링한 dataframe의 리스트를 반환하는 함수\n",
    "## amount는 (수요량 이외에) 추가로 샘플링할 변수의 개수 (0, 1, 2 가능. 0은 수요량만 반환)\n",
    "## df_y는 날짜와 수요량이 포함된 데이터프레임. create_y 함수로 정제한 값을 넣으면 됩니다\n",
    "## df_list는 추가 변수로 사용할 모든 데이터프레임들의 리스트. ~~~_vars 중 원하는 것을 리스트로 넣으면 됩니다\n",
    "    ## 예시) 광진구 + 공용 변수의 경우: df_list=[gw_vars, comon_vars]\n",
    "## 반환하는 값은 튜플 {\"data\": 데이터프레임, \"name\":포함된 컬럼명의 리스트} 로 이루어진 리스트입니다\n",
    "    \n",
    "def sample_multivariate(amount, df_y, df_list):\n",
    "    samples = []\n",
    "    # 데이터프레임을 하나로 통합\n",
    "    df = pd.concat(df_list, axis=1)\n",
    "    if amount == 0:\n",
    "        # y값만 리턴\n",
    "        samples.append({\"data\":pd.concat([df_y], axis=1),\"name\":[]})\n",
    "    elif amount == 1:\n",
    "        # sample을 한 column씩 추출\n",
    "        for index in range(len(df.columns)):\n",
    "            sample = pd.concat([df_y,df.loc[:,df.columns[index]]],axis=1)\n",
    "            samples.append({\"data\":sample, \"name\":[df.columns[index]]})\n",
    "    elif amount == 2:\n",
    "        # sample을 두 column씩 추출\n",
    "        for first_index in range(len(df.columns)):\n",
    "            remaining_columns = df.columns[first_index+1:]\n",
    "            for second_index in range(len(remaining_columns)):\n",
    "                targets = [df.columns[first_index],remaining_columns[second_index]]\n",
    "                sample = pd.concat([df_y,df.loc[:,targets]],axis=1)\n",
    "                samples.append({\"data\":sample, \"name\":targets})\n",
    "    return samples\n",
    "    "
   ]
  },
  {
   "cell_type": "code",
   "execution_count": 7,
   "metadata": {},
   "outputs": [],
   "source": [
    "# 데이터를 자르는 함수\n",
    "# 일단은 2021년 1월 1일 기준으로 자르게 일반화 해놓았습니다\n",
    "\n",
    "def split_sample(df):\n",
    "    train = df.loc[:1095]\n",
    "    test = df.loc[1096:]\n",
    "    return {\"train\":train, \"test\":test}\n"
   ]
  },
  {
   "cell_type": "code",
   "execution_count": 8,
   "metadata": {},
   "outputs": [],
   "source": [
    "def create_result(indexes):\n",
    "    return pd.DataFrame(index=[\"Column\"] + indexes)"
   ]
  },
  {
   "attachments": {},
   "cell_type": "markdown",
   "metadata": {},
   "source": [
    "공용 함수 End"
   ]
  },
  {
   "cell_type": "code",
   "execution_count": 11,
   "metadata": {},
   "outputs": [],
   "source": [
    "sample = create_y(gw_demand,\"ds\",\"y\")"
   ]
  },
  {
   "cell_type": "code",
   "execution_count": 12,
   "metadata": {},
   "outputs": [],
   "source": [
    "split = split_sample(sample)\n",
    "train = split[\"train\"]\n",
    "test = split[\"test\"]"
   ]
  },
  {
   "cell_type": "code",
   "execution_count": 21,
   "metadata": {},
   "outputs": [
    {
     "name": "stderr",
     "output_type": "stream",
     "text": [
      "INFO - (NP.df_utils._infer_frequency) - Major frequency D corresponds to 99.909% of the data.\n",
      "INFO - (NP.df_utils._infer_frequency) - Defined frequency is equal to major frequency - d\n",
      "INFO - (NP.config.init_data_params) - Setting normalization to global as only one dataframe provided for training.\n"
     ]
    },
    {
     "data": {
      "application/vnd.jupyter.widget-view+json": {
       "model_id": "0c4c321503f0494d93b3dd1de2c94fb7",
       "version_major": 2,
       "version_minor": 0
      },
      "text/plain": [
       "Training: 0it [00:00, ?it/s]"
      ]
     },
     "metadata": {},
     "output_type": "display_data"
    },
    {
     "data": {
      "application/vnd.jupyter.widget-view+json": {
       "model_id": "1265fde26fa64f86b3b4fc8b501360c3",
       "version_major": 2,
       "version_minor": 0
      },
      "text/plain": [
       "Validation: 0it [00:00, ?it/s]"
      ]
     },
     "metadata": {},
     "output_type": "display_data"
    },
    {
     "data": {
      "application/vnd.jupyter.widget-view+json": {
       "model_id": "64ac7b8225a34e638b8924224114341f",
       "version_major": 2,
       "version_minor": 0
      },
      "text/plain": [
       "Validation: 0it [00:00, ?it/s]"
      ]
     },
     "metadata": {},
     "output_type": "display_data"
    },
    {
     "data": {
      "application/vnd.jupyter.widget-view+json": {
       "model_id": "bfabb556922c44a089df6a3eb748cf3f",
       "version_major": 2,
       "version_minor": 0
      },
      "text/plain": [
       "Validation: 0it [00:00, ?it/s]"
      ]
     },
     "metadata": {},
     "output_type": "display_data"
    },
    {
     "data": {
      "application/vnd.jupyter.widget-view+json": {
       "model_id": "961258b9055e4001a16d84bc5b6f612d",
       "version_major": 2,
       "version_minor": 0
      },
      "text/plain": [
       "Validation: 0it [00:00, ?it/s]"
      ]
     },
     "metadata": {},
     "output_type": "display_data"
    },
    {
     "data": {
      "application/vnd.jupyter.widget-view+json": {
       "model_id": "ee088ed089d648af9a5024490606820a",
       "version_major": 2,
       "version_minor": 0
      },
      "text/plain": [
       "Validation: 0it [00:00, ?it/s]"
      ]
     },
     "metadata": {},
     "output_type": "display_data"
    },
    {
     "data": {
      "application/vnd.jupyter.widget-view+json": {
       "model_id": "b562862ae2d14fc3b4f42e51417eccd9",
       "version_major": 2,
       "version_minor": 0
      },
      "text/plain": [
       "Validation: 0it [00:00, ?it/s]"
      ]
     },
     "metadata": {},
     "output_type": "display_data"
    },
    {
     "data": {
      "application/vnd.jupyter.widget-view+json": {
       "model_id": "bb0662e0a8f84050a507d008eab108db",
       "version_major": 2,
       "version_minor": 0
      },
      "text/plain": [
       "Validation: 0it [00:00, ?it/s]"
      ]
     },
     "metadata": {},
     "output_type": "display_data"
    },
    {
     "data": {
      "application/vnd.jupyter.widget-view+json": {
       "model_id": "7560a8e8bcf9488ea9ce3ae6b328ceae",
       "version_major": 2,
       "version_minor": 0
      },
      "text/plain": [
       "Validation: 0it [00:00, ?it/s]"
      ]
     },
     "metadata": {},
     "output_type": "display_data"
    },
    {
     "data": {
      "application/vnd.jupyter.widget-view+json": {
       "model_id": "b049bc991b934804bae9373ddf856909",
       "version_major": 2,
       "version_minor": 0
      },
      "text/plain": [
       "Validation: 0it [00:00, ?it/s]"
      ]
     },
     "metadata": {},
     "output_type": "display_data"
    },
    {
     "data": {
      "application/vnd.jupyter.widget-view+json": {
       "model_id": "fb3071a5bcd7493290bdc70e82d24203",
       "version_major": 2,
       "version_minor": 0
      },
      "text/plain": [
       "Validation: 0it [00:00, ?it/s]"
      ]
     },
     "metadata": {},
     "output_type": "display_data"
    },
    {
     "data": {
      "application/vnd.jupyter.widget-view+json": {
       "model_id": "c74abc5b982443fba5195d75637a83ca",
       "version_major": 2,
       "version_minor": 0
      },
      "text/plain": [
       "Validation: 0it [00:00, ?it/s]"
      ]
     },
     "metadata": {},
     "output_type": "display_data"
    },
    {
     "data": {
      "application/vnd.jupyter.widget-view+json": {
       "model_id": "4658aec1161b40c6973bbd7af90d5623",
       "version_major": 2,
       "version_minor": 0
      },
      "text/plain": [
       "Validation: 0it [00:00, ?it/s]"
      ]
     },
     "metadata": {},
     "output_type": "display_data"
    },
    {
     "data": {
      "application/vnd.jupyter.widget-view+json": {
       "model_id": "77d6a4c926934847b05d7d33aa8eb262",
       "version_major": 2,
       "version_minor": 0
      },
      "text/plain": [
       "Validation: 0it [00:00, ?it/s]"
      ]
     },
     "metadata": {},
     "output_type": "display_data"
    },
    {
     "data": {
      "application/vnd.jupyter.widget-view+json": {
       "model_id": "6156319d07104313b7ec932c62b47fe1",
       "version_major": 2,
       "version_minor": 0
      },
      "text/plain": [
       "Validation: 0it [00:00, ?it/s]"
      ]
     },
     "metadata": {},
     "output_type": "display_data"
    },
    {
     "data": {
      "application/vnd.jupyter.widget-view+json": {
       "model_id": "1da43c0e6dba42d487badae0f319affa",
       "version_major": 2,
       "version_minor": 0
      },
      "text/plain": [
       "Validation: 0it [00:00, ?it/s]"
      ]
     },
     "metadata": {},
     "output_type": "display_data"
    },
    {
     "data": {
      "application/vnd.jupyter.widget-view+json": {
       "model_id": "823dbed3636f49c0817298297e39161b",
       "version_major": 2,
       "version_minor": 0
      },
      "text/plain": [
       "Validation: 0it [00:00, ?it/s]"
      ]
     },
     "metadata": {},
     "output_type": "display_data"
    },
    {
     "data": {
      "application/vnd.jupyter.widget-view+json": {
       "model_id": "a05e58bb19ed4a88ae048059782e0e7a",
       "version_major": 2,
       "version_minor": 0
      },
      "text/plain": [
       "Validation: 0it [00:00, ?it/s]"
      ]
     },
     "metadata": {},
     "output_type": "display_data"
    },
    {
     "data": {
      "application/vnd.jupyter.widget-view+json": {
       "model_id": "bf299ac4f127407cb89fa83f2fba4402",
       "version_major": 2,
       "version_minor": 0
      },
      "text/plain": [
       "Validation: 0it [00:00, ?it/s]"
      ]
     },
     "metadata": {},
     "output_type": "display_data"
    },
    {
     "data": {
      "application/vnd.jupyter.widget-view+json": {
       "model_id": "667564a3d8714f5eba5e2663db9b9e3a",
       "version_major": 2,
       "version_minor": 0
      },
      "text/plain": [
       "Validation: 0it [00:00, ?it/s]"
      ]
     },
     "metadata": {},
     "output_type": "display_data"
    },
    {
     "data": {
      "application/vnd.jupyter.widget-view+json": {
       "model_id": "ef26ed1394df437883820fa667e5bb6a",
       "version_major": 2,
       "version_minor": 0
      },
      "text/plain": [
       "Validation: 0it [00:00, ?it/s]"
      ]
     },
     "metadata": {},
     "output_type": "display_data"
    },
    {
     "data": {
      "application/vnd.jupyter.widget-view+json": {
       "model_id": "04333df63b3e4629ba6fc4af3902ac8b",
       "version_major": 2,
       "version_minor": 0
      },
      "text/plain": [
       "Validation: 0it [00:00, ?it/s]"
      ]
     },
     "metadata": {},
     "output_type": "display_data"
    },
    {
     "data": {
      "application/vnd.jupyter.widget-view+json": {
       "model_id": "9650d32371e744dfabe66ec571dfadbb",
       "version_major": 2,
       "version_minor": 0
      },
      "text/plain": [
       "Validation: 0it [00:00, ?it/s]"
      ]
     },
     "metadata": {},
     "output_type": "display_data"
    },
    {
     "data": {
      "application/vnd.jupyter.widget-view+json": {
       "model_id": "4551624ca44a429db987c72b0b1fdb69",
       "version_major": 2,
       "version_minor": 0
      },
      "text/plain": [
       "Validation: 0it [00:00, ?it/s]"
      ]
     },
     "metadata": {},
     "output_type": "display_data"
    },
    {
     "data": {
      "application/vnd.jupyter.widget-view+json": {
       "model_id": "46768141fa644e51817f61c0ee32c155",
       "version_major": 2,
       "version_minor": 0
      },
      "text/plain": [
       "Validation: 0it [00:00, ?it/s]"
      ]
     },
     "metadata": {},
     "output_type": "display_data"
    },
    {
     "data": {
      "application/vnd.jupyter.widget-view+json": {
       "model_id": "39c67b4838794508bfca2ecff3c3b72a",
       "version_major": 2,
       "version_minor": 0
      },
      "text/plain": [
       "Validation: 0it [00:00, ?it/s]"
      ]
     },
     "metadata": {},
     "output_type": "display_data"
    },
    {
     "data": {
      "application/vnd.jupyter.widget-view+json": {
       "model_id": "ab8eec89030f43c4b0eaa3e8bed560d3",
       "version_major": 2,
       "version_minor": 0
      },
      "text/plain": [
       "Validation: 0it [00:00, ?it/s]"
      ]
     },
     "metadata": {},
     "output_type": "display_data"
    },
    {
     "data": {
      "application/vnd.jupyter.widget-view+json": {
       "model_id": "d419590615e841108a135fe70961ee98",
       "version_major": 2,
       "version_minor": 0
      },
      "text/plain": [
       "Validation: 0it [00:00, ?it/s]"
      ]
     },
     "metadata": {},
     "output_type": "display_data"
    },
    {
     "data": {
      "application/vnd.jupyter.widget-view+json": {
       "model_id": "78714b4106e34cd6a3b62420dd3a7f52",
       "version_major": 2,
       "version_minor": 0
      },
      "text/plain": [
       "Validation: 0it [00:00, ?it/s]"
      ]
     },
     "metadata": {},
     "output_type": "display_data"
    },
    {
     "data": {
      "application/vnd.jupyter.widget-view+json": {
       "model_id": "825011522c884991b27cfb56697c4401",
       "version_major": 2,
       "version_minor": 0
      },
      "text/plain": [
       "Validation: 0it [00:00, ?it/s]"
      ]
     },
     "metadata": {},
     "output_type": "display_data"
    },
    {
     "data": {
      "application/vnd.jupyter.widget-view+json": {
       "model_id": "6e5f7df39a22422ca6954b0a5ea1099c",
       "version_major": 2,
       "version_minor": 0
      },
      "text/plain": [
       "Validation: 0it [00:00, ?it/s]"
      ]
     },
     "metadata": {},
     "output_type": "display_data"
    }
   ],
   "source": [
    "m = NeuralProphet( growth='linear', # 추세 유형 설정(linear, discontinuous, off 중 선택 가능)\n",
    "        yearly_seasonality=True, #년간 계절성 설정\n",
    "        weekly_seasonality=True, #주간 계절성 설정\n",
    "        daily_seasonality=True, #일간 계절성 설정\n",
    "        batch_size=32,#배치 사이즈 설정\n",
    "        epochs=30,#학습 횟수 설정\n",
    "        learning_rate=0.1, # 학습률 설정\n",
    ")\n",
    "\n",
    "m.add_seasonality(name='monthly', period=30.5, fourier_order=5)\n",
    "metrics = m.fit(train, freq='d',validation_df=test)"
   ]
  },
  {
   "cell_type": "code",
   "execution_count": 31,
   "metadata": {},
   "outputs": [
    {
     "name": "stderr",
     "output_type": "stream",
     "text": [
      "INFO - (NP.df_utils._infer_frequency) - Major frequency D corresponds to 99.932% of the data.\n",
      "INFO - (NP.df_utils._infer_frequency) - Defined frequency is equal to major frequency - d\n",
      "INFO - (NP.df_utils.return_df_in_original_format) - Returning df with no ID column\n"
     ]
    },
    {
     "data": {
      "text/html": [
       "<div>\n",
       "<style scoped>\n",
       "    .dataframe tbody tr th:only-of-type {\n",
       "        vertical-align: middle;\n",
       "    }\n",
       "\n",
       "    .dataframe tbody tr th {\n",
       "        vertical-align: top;\n",
       "    }\n",
       "\n",
       "    .dataframe thead th {\n",
       "        text-align: right;\n",
       "    }\n",
       "</style>\n",
       "<table border=\"1\" class=\"dataframe\">\n",
       "  <thead>\n",
       "    <tr style=\"text-align: right;\">\n",
       "      <th></th>\n",
       "      <th>ds</th>\n",
       "      <th>y</th>\n",
       "    </tr>\n",
       "  </thead>\n",
       "  <tbody>\n",
       "    <tr>\n",
       "      <th>0</th>\n",
       "      <td>2022-01-01</td>\n",
       "      <td>None</td>\n",
       "    </tr>\n",
       "    <tr>\n",
       "      <th>1</th>\n",
       "      <td>2022-01-02</td>\n",
       "      <td>None</td>\n",
       "    </tr>\n",
       "    <tr>\n",
       "      <th>2</th>\n",
       "      <td>2022-01-03</td>\n",
       "      <td>None</td>\n",
       "    </tr>\n",
       "    <tr>\n",
       "      <th>3</th>\n",
       "      <td>2022-01-04</td>\n",
       "      <td>None</td>\n",
       "    </tr>\n",
       "    <tr>\n",
       "      <th>4</th>\n",
       "      <td>2022-01-05</td>\n",
       "      <td>None</td>\n",
       "    </tr>\n",
       "    <tr>\n",
       "      <th>...</th>\n",
       "      <td>...</td>\n",
       "      <td>...</td>\n",
       "    </tr>\n",
       "    <tr>\n",
       "      <th>360</th>\n",
       "      <td>2022-12-27</td>\n",
       "      <td>None</td>\n",
       "    </tr>\n",
       "    <tr>\n",
       "      <th>361</th>\n",
       "      <td>2022-12-28</td>\n",
       "      <td>None</td>\n",
       "    </tr>\n",
       "    <tr>\n",
       "      <th>362</th>\n",
       "      <td>2022-12-29</td>\n",
       "      <td>None</td>\n",
       "    </tr>\n",
       "    <tr>\n",
       "      <th>363</th>\n",
       "      <td>2022-12-30</td>\n",
       "      <td>None</td>\n",
       "    </tr>\n",
       "    <tr>\n",
       "      <th>364</th>\n",
       "      <td>2022-12-31</td>\n",
       "      <td>None</td>\n",
       "    </tr>\n",
       "  </tbody>\n",
       "</table>\n",
       "<p>365 rows × 2 columns</p>\n",
       "</div>"
      ],
      "text/plain": [
       "            ds     y\n",
       "0   2022-01-01  None\n",
       "1   2022-01-02  None\n",
       "2   2022-01-03  None\n",
       "3   2022-01-04  None\n",
       "4   2022-01-05  None\n",
       "..         ...   ...\n",
       "360 2022-12-27  None\n",
       "361 2022-12-28  None\n",
       "362 2022-12-29  None\n",
       "363 2022-12-30  None\n",
       "364 2022-12-31  None\n",
       "\n",
       "[365 rows x 2 columns]"
      ]
     },
     "execution_count": 31,
     "metadata": {},
     "output_type": "execute_result"
    }
   ],
   "source": [
    "future = m.make_future_dataframe(sample, periods=365)\n",
    "future"
   ]
  },
  {
   "cell_type": "code",
   "execution_count": 23,
   "metadata": {},
   "outputs": [
    {
     "name": "stderr",
     "output_type": "stream",
     "text": [
      "INFO - (NP.df_utils._infer_frequency) - Major frequency D corresponds to 99.726% of the data.\n",
      "INFO - (NP.df_utils._infer_frequency) - Defined frequency is equal to major frequency - d\n",
      "INFO - (NP.df_utils._infer_frequency) - Major frequency D corresponds to 99.726% of the data.\n",
      "INFO - (NP.df_utils._infer_frequency) - Defined frequency is equal to major frequency - d\n"
     ]
    },
    {
     "data": {
      "application/vnd.jupyter.widget-view+json": {
       "model_id": "7815168cbbc649a49245ef7fd74180e3",
       "version_major": 2,
       "version_minor": 0
      },
      "text/plain": [
       "Predicting: 35it [00:00, ?it/s]"
      ]
     },
     "metadata": {},
     "output_type": "display_data"
    },
    {
     "name": "stderr",
     "output_type": "stream",
     "text": [
      "INFO - (NP.df_utils.return_df_in_original_format) - Returning df with no ID column\n"
     ]
    }
   ],
   "source": [
    "forecast = m.predict(df=future)"
   ]
  },
  {
   "cell_type": "code",
   "execution_count": 25,
   "metadata": {},
   "outputs": [
    {
     "data": {
      "text/html": [
       "<div>\n",
       "<style scoped>\n",
       "    .dataframe tbody tr th:only-of-type {\n",
       "        vertical-align: middle;\n",
       "    }\n",
       "\n",
       "    .dataframe tbody tr th {\n",
       "        vertical-align: top;\n",
       "    }\n",
       "\n",
       "    .dataframe thead th {\n",
       "        text-align: right;\n",
       "    }\n",
       "</style>\n",
       "<table border=\"1\" class=\"dataframe\">\n",
       "  <thead>\n",
       "    <tr style=\"text-align: right;\">\n",
       "      <th></th>\n",
       "      <th>ds</th>\n",
       "      <th>y</th>\n",
       "      <th>yhat1</th>\n",
       "      <th>trend</th>\n",
       "      <th>season_yearly</th>\n",
       "      <th>season_weekly</th>\n",
       "      <th>season_daily</th>\n",
       "      <th>season_monthly</th>\n",
       "    </tr>\n",
       "  </thead>\n",
       "  <tbody>\n",
       "    <tr>\n",
       "      <th>0</th>\n",
       "      <td>2021-01-01</td>\n",
       "      <td>None</td>\n",
       "      <td>2.891697</td>\n",
       "      <td>-2.754649</td>\n",
       "      <td>-3.603158</td>\n",
       "      <td>0.156855</td>\n",
       "      <td>9.082088</td>\n",
       "      <td>0.010560</td>\n",
       "    </tr>\n",
       "    <tr>\n",
       "      <th>1</th>\n",
       "      <td>2021-01-02</td>\n",
       "      <td>None</td>\n",
       "      <td>2.906502</td>\n",
       "      <td>-2.756171</td>\n",
       "      <td>-3.612601</td>\n",
       "      <td>0.100525</td>\n",
       "      <td>9.082088</td>\n",
       "      <td>0.092662</td>\n",
       "    </tr>\n",
       "    <tr>\n",
       "      <th>2</th>\n",
       "      <td>2021-01-03</td>\n",
       "      <td>None</td>\n",
       "      <td>2.607873</td>\n",
       "      <td>-2.757692</td>\n",
       "      <td>-3.620431</td>\n",
       "      <td>-0.279687</td>\n",
       "      <td>9.082088</td>\n",
       "      <td>0.183596</td>\n",
       "    </tr>\n",
       "    <tr>\n",
       "      <th>3</th>\n",
       "      <td>2021-01-04</td>\n",
       "      <td>None</td>\n",
       "      <td>2.837090</td>\n",
       "      <td>-2.759214</td>\n",
       "      <td>-3.626808</td>\n",
       "      <td>-0.016915</td>\n",
       "      <td>9.082088</td>\n",
       "      <td>0.157939</td>\n",
       "    </tr>\n",
       "    <tr>\n",
       "      <th>4</th>\n",
       "      <td>2021-01-05</td>\n",
       "      <td>None</td>\n",
       "      <td>2.797473</td>\n",
       "      <td>-2.760736</td>\n",
       "      <td>-3.631893</td>\n",
       "      <td>0.135802</td>\n",
       "      <td>9.082088</td>\n",
       "      <td>-0.027788</td>\n",
       "    </tr>\n",
       "    <tr>\n",
       "      <th>...</th>\n",
       "      <td>...</td>\n",
       "      <td>...</td>\n",
       "      <td>...</td>\n",
       "      <td>...</td>\n",
       "      <td>...</td>\n",
       "      <td>...</td>\n",
       "      <td>...</td>\n",
       "      <td>...</td>\n",
       "    </tr>\n",
       "    <tr>\n",
       "      <th>360</th>\n",
       "      <td>2021-12-27</td>\n",
       "      <td>None</td>\n",
       "      <td>2.090360</td>\n",
       "      <td>-3.302426</td>\n",
       "      <td>-3.520976</td>\n",
       "      <td>-0.016915</td>\n",
       "      <td>9.082088</td>\n",
       "      <td>-0.151412</td>\n",
       "    </tr>\n",
       "    <tr>\n",
       "      <th>361</th>\n",
       "      <td>2021-12-28</td>\n",
       "      <td>None</td>\n",
       "      <td>2.301742</td>\n",
       "      <td>-3.303948</td>\n",
       "      <td>-3.541400</td>\n",
       "      <td>0.135802</td>\n",
       "      <td>9.082088</td>\n",
       "      <td>-0.070800</td>\n",
       "    </tr>\n",
       "    <tr>\n",
       "      <th>362</th>\n",
       "      <td>2021-12-29</td>\n",
       "      <td>None</td>\n",
       "      <td>2.167264</td>\n",
       "      <td>-3.305469</td>\n",
       "      <td>-3.559427</td>\n",
       "      <td>-0.115918</td>\n",
       "      <td>9.082088</td>\n",
       "      <td>0.065991</td>\n",
       "    </tr>\n",
       "    <tr>\n",
       "      <th>363</th>\n",
       "      <td>2021-12-30</td>\n",
       "      <td>None</td>\n",
       "      <td>2.357093</td>\n",
       "      <td>-3.306991</td>\n",
       "      <td>-3.575194</td>\n",
       "      <td>0.019338</td>\n",
       "      <td>9.082088</td>\n",
       "      <td>0.137852</td>\n",
       "    </tr>\n",
       "    <tr>\n",
       "      <th>364</th>\n",
       "      <td>2021-12-31</td>\n",
       "      <td>None</td>\n",
       "      <td>2.442299</td>\n",
       "      <td>-3.308513</td>\n",
       "      <td>-3.588843</td>\n",
       "      <td>0.156855</td>\n",
       "      <td>9.082088</td>\n",
       "      <td>0.100711</td>\n",
       "    </tr>\n",
       "  </tbody>\n",
       "</table>\n",
       "<p>365 rows × 8 columns</p>\n",
       "</div>"
      ],
      "text/plain": [
       "            ds     y     yhat1     trend  season_yearly  season_weekly  \\\n",
       "0   2021-01-01  None  2.891697 -2.754649      -3.603158       0.156855   \n",
       "1   2021-01-02  None  2.906502 -2.756171      -3.612601       0.100525   \n",
       "2   2021-01-03  None  2.607873 -2.757692      -3.620431      -0.279687   \n",
       "3   2021-01-04  None  2.837090 -2.759214      -3.626808      -0.016915   \n",
       "4   2021-01-05  None  2.797473 -2.760736      -3.631893       0.135802   \n",
       "..         ...   ...       ...       ...            ...            ...   \n",
       "360 2021-12-27  None  2.090360 -3.302426      -3.520976      -0.016915   \n",
       "361 2021-12-28  None  2.301742 -3.303948      -3.541400       0.135802   \n",
       "362 2021-12-29  None  2.167264 -3.305469      -3.559427      -0.115918   \n",
       "363 2021-12-30  None  2.357093 -3.306991      -3.575194       0.019338   \n",
       "364 2021-12-31  None  2.442299 -3.308513      -3.588843       0.156855   \n",
       "\n",
       "     season_daily  season_monthly  \n",
       "0        9.082088        0.010560  \n",
       "1        9.082088        0.092662  \n",
       "2        9.082088        0.183596  \n",
       "3        9.082088        0.157939  \n",
       "4        9.082088       -0.027788  \n",
       "..            ...             ...  \n",
       "360      9.082088       -0.151412  \n",
       "361      9.082088       -0.070800  \n",
       "362      9.082088        0.065991  \n",
       "363      9.082088        0.137852  \n",
       "364      9.082088        0.100711  \n",
       "\n",
       "[365 rows x 8 columns]"
      ]
     },
     "execution_count": 25,
     "metadata": {},
     "output_type": "execute_result"
    }
   ],
   "source": [
    "forecast"
   ]
  },
  {
   "cell_type": "code",
   "execution_count": 29,
   "metadata": {},
   "outputs": [
    {
     "name": "stderr",
     "output_type": "stream",
     "text": [
      "INFO - (NP.df_utils._infer_frequency) - Major frequency D corresponds to 99.726% of the data.\n",
      "INFO - (NP.df_utils._infer_frequency) - Defined frequency is equal to major frequency - d\n",
      "INFO - (NP.df_utils._infer_frequency) - Major frequency D corresponds to 99.726% of the data.\n",
      "INFO - (NP.df_utils._infer_frequency) - Defined frequency is equal to major frequency - d\n"
     ]
    },
    {
     "data": {
      "application/vnd.jupyter.widget-view+json": {
       "model_id": "e5e7845fbe034dafbcbf32865668902e",
       "version_major": 2,
       "version_minor": 0
      },
      "text/plain": [
       "Predicting: 35it [00:00, ?it/s]"
      ]
     },
     "metadata": {},
     "output_type": "display_data"
    },
    {
     "name": "stderr",
     "output_type": "stream",
     "text": [
      "INFO - (NP.df_utils.return_df_in_original_format) - Returning df with no ID column\n"
     ]
    }
   ],
   "source": [
    "forecast2 = m.predict(df=test)"
   ]
  },
  {
   "cell_type": "code",
   "execution_count": 30,
   "metadata": {},
   "outputs": [
    {
     "data": {
      "text/html": [
       "<div>\n",
       "<style scoped>\n",
       "    .dataframe tbody tr th:only-of-type {\n",
       "        vertical-align: middle;\n",
       "    }\n",
       "\n",
       "    .dataframe tbody tr th {\n",
       "        vertical-align: top;\n",
       "    }\n",
       "\n",
       "    .dataframe thead th {\n",
       "        text-align: right;\n",
       "    }\n",
       "</style>\n",
       "<table border=\"1\" class=\"dataframe\">\n",
       "  <thead>\n",
       "    <tr style=\"text-align: right;\">\n",
       "      <th></th>\n",
       "      <th>ds</th>\n",
       "      <th>y</th>\n",
       "      <th>yhat1</th>\n",
       "      <th>trend</th>\n",
       "      <th>season_yearly</th>\n",
       "      <th>season_weekly</th>\n",
       "      <th>season_daily</th>\n",
       "      <th>season_monthly</th>\n",
       "    </tr>\n",
       "  </thead>\n",
       "  <tbody>\n",
       "    <tr>\n",
       "      <th>0</th>\n",
       "      <td>2021-01-01</td>\n",
       "      <td>2.070</td>\n",
       "      <td>2.891697</td>\n",
       "      <td>-2.754649</td>\n",
       "      <td>-3.603158</td>\n",
       "      <td>0.156855</td>\n",
       "      <td>9.082088</td>\n",
       "      <td>0.010560</td>\n",
       "    </tr>\n",
       "    <tr>\n",
       "      <th>1</th>\n",
       "      <td>2021-01-02</td>\n",
       "      <td>2.062</td>\n",
       "      <td>2.906502</td>\n",
       "      <td>-2.756171</td>\n",
       "      <td>-3.612601</td>\n",
       "      <td>0.100525</td>\n",
       "      <td>9.082088</td>\n",
       "      <td>0.092662</td>\n",
       "    </tr>\n",
       "    <tr>\n",
       "      <th>2</th>\n",
       "      <td>2021-01-03</td>\n",
       "      <td>1.918</td>\n",
       "      <td>2.607873</td>\n",
       "      <td>-2.757692</td>\n",
       "      <td>-3.620431</td>\n",
       "      <td>-0.279687</td>\n",
       "      <td>9.082088</td>\n",
       "      <td>0.183596</td>\n",
       "    </tr>\n",
       "    <tr>\n",
       "      <th>3</th>\n",
       "      <td>2021-01-04</td>\n",
       "      <td>3.238</td>\n",
       "      <td>2.837090</td>\n",
       "      <td>-2.759214</td>\n",
       "      <td>-3.626808</td>\n",
       "      <td>-0.016915</td>\n",
       "      <td>9.082088</td>\n",
       "      <td>0.157939</td>\n",
       "    </tr>\n",
       "    <tr>\n",
       "      <th>4</th>\n",
       "      <td>2021-01-05</td>\n",
       "      <td>2.864</td>\n",
       "      <td>2.797473</td>\n",
       "      <td>-2.760736</td>\n",
       "      <td>-3.631893</td>\n",
       "      <td>0.135802</td>\n",
       "      <td>9.082088</td>\n",
       "      <td>-0.027788</td>\n",
       "    </tr>\n",
       "    <tr>\n",
       "      <th>...</th>\n",
       "      <td>...</td>\n",
       "      <td>...</td>\n",
       "      <td>...</td>\n",
       "      <td>...</td>\n",
       "      <td>...</td>\n",
       "      <td>...</td>\n",
       "      <td>...</td>\n",
       "      <td>...</td>\n",
       "    </tr>\n",
       "    <tr>\n",
       "      <th>360</th>\n",
       "      <td>2021-12-27</td>\n",
       "      <td>3.830</td>\n",
       "      <td>2.090360</td>\n",
       "      <td>-3.302426</td>\n",
       "      <td>-3.520976</td>\n",
       "      <td>-0.016915</td>\n",
       "      <td>9.082088</td>\n",
       "      <td>-0.151412</td>\n",
       "    </tr>\n",
       "    <tr>\n",
       "      <th>361</th>\n",
       "      <td>2021-12-28</td>\n",
       "      <td>4.510</td>\n",
       "      <td>2.301742</td>\n",
       "      <td>-3.303948</td>\n",
       "      <td>-3.541400</td>\n",
       "      <td>0.135802</td>\n",
       "      <td>9.082088</td>\n",
       "      <td>-0.070800</td>\n",
       "    </tr>\n",
       "    <tr>\n",
       "      <th>362</th>\n",
       "      <td>2021-12-29</td>\n",
       "      <td>4.490</td>\n",
       "      <td>2.167264</td>\n",
       "      <td>-3.305469</td>\n",
       "      <td>-3.559427</td>\n",
       "      <td>-0.115918</td>\n",
       "      <td>9.082088</td>\n",
       "      <td>0.065991</td>\n",
       "    </tr>\n",
       "    <tr>\n",
       "      <th>363</th>\n",
       "      <td>2021-12-30</td>\n",
       "      <td>4.444</td>\n",
       "      <td>2.357093</td>\n",
       "      <td>-3.306991</td>\n",
       "      <td>-3.575194</td>\n",
       "      <td>0.019338</td>\n",
       "      <td>9.082088</td>\n",
       "      <td>0.137852</td>\n",
       "    </tr>\n",
       "    <tr>\n",
       "      <th>364</th>\n",
       "      <td>2021-12-31</td>\n",
       "      <td>3.616</td>\n",
       "      <td>2.442299</td>\n",
       "      <td>-3.308513</td>\n",
       "      <td>-3.588843</td>\n",
       "      <td>0.156855</td>\n",
       "      <td>9.082088</td>\n",
       "      <td>0.100711</td>\n",
       "    </tr>\n",
       "  </tbody>\n",
       "</table>\n",
       "<p>365 rows × 8 columns</p>\n",
       "</div>"
      ],
      "text/plain": [
       "            ds      y     yhat1     trend  season_yearly  season_weekly  \\\n",
       "0   2021-01-01  2.070  2.891697 -2.754649      -3.603158       0.156855   \n",
       "1   2021-01-02  2.062  2.906502 -2.756171      -3.612601       0.100525   \n",
       "2   2021-01-03  1.918  2.607873 -2.757692      -3.620431      -0.279687   \n",
       "3   2021-01-04  3.238  2.837090 -2.759214      -3.626808      -0.016915   \n",
       "4   2021-01-05  2.864  2.797473 -2.760736      -3.631893       0.135802   \n",
       "..         ...    ...       ...       ...            ...            ...   \n",
       "360 2021-12-27  3.830  2.090360 -3.302426      -3.520976      -0.016915   \n",
       "361 2021-12-28  4.510  2.301742 -3.303948      -3.541400       0.135802   \n",
       "362 2021-12-29  4.490  2.167264 -3.305469      -3.559427      -0.115918   \n",
       "363 2021-12-30  4.444  2.357093 -3.306991      -3.575194       0.019338   \n",
       "364 2021-12-31  3.616  2.442299 -3.308513      -3.588843       0.156855   \n",
       "\n",
       "     season_daily  season_monthly  \n",
       "0        9.082088        0.010560  \n",
       "1        9.082088        0.092662  \n",
       "2        9.082088        0.183596  \n",
       "3        9.082088        0.157939  \n",
       "4        9.082088       -0.027788  \n",
       "..            ...             ...  \n",
       "360      9.082088       -0.151412  \n",
       "361      9.082088       -0.070800  \n",
       "362      9.082088        0.065991  \n",
       "363      9.082088        0.137852  \n",
       "364      9.082088        0.100711  \n",
       "\n",
       "[365 rows x 8 columns]"
      ]
     },
     "execution_count": 30,
     "metadata": {},
     "output_type": "execute_result"
    }
   ],
   "source": [
    "forecast2"
   ]
  }
 ],
 "metadata": {
  "kernelspec": {
   "display_name": "Python 3",
   "language": "python",
   "name": "python3"
  },
  "language_info": {
   "codemirror_mode": {
    "name": "ipython",
    "version": 3
   },
   "file_extension": ".py",
   "mimetype": "text/x-python",
   "name": "python",
   "nbconvert_exporter": "python",
   "pygments_lexer": "ipython3",
   "version": "3.8.10"
  },
  "orig_nbformat": 4,
  "vscode": {
   "interpreter": {
    "hash": "bbfe6bb085aef4c2d2f691412fa41a654975dc46b0343b5cfb397e6a2eb78d21"
   }
  }
 },
 "nbformat": 4,
 "nbformat_minor": 2
}

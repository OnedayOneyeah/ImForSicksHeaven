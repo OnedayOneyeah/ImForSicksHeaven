{
 "cells": [
  {
   "cell_type": "code",
   "execution_count": 37,
   "id": "e9ed0164",
   "metadata": {},
   "outputs": [],
   "source": [
    "import pandas as pd\n",
    "from neuralprophet import NeuralProphet, set_log_level\n",
    "import plotly.express as px\n",
    "set_log_level(\"ERROR\")"
   ]
  },
  {
   "cell_type": "code",
   "execution_count": 38,
   "id": "27763f66",
   "metadata": {},
   "outputs": [],
   "source": [
    "##참고\n",
    "#https://bigwaveai.tistory.com/28\n",
    "## 코로나 거리두기, 신규확진자, 신규 이용자, 공기 관련 데이터 제거\n"
   ]
  },
  {
   "cell_type": "code",
   "execution_count": 39,
   "id": "ea11d646",
   "metadata": {},
   "outputs": [],
   "source": [
    "data=pd.read_csv(\"../../data/scaled_data/data_scaled_rb_with_date.csv\", header=0).fillna(method='ffill').fillna(method='bfill')"
   ]
  },
  {
   "cell_type": "code",
   "execution_count": 40,
   "id": "a14b5b36",
   "metadata": {},
   "outputs": [
    {
     "data": {
      "text/html": [
       "<div>\n",
       "<style scoped>\n",
       "    .dataframe tbody tr th:only-of-type {\n",
       "        vertical-align: middle;\n",
       "    }\n",
       "\n",
       "    .dataframe tbody tr th {\n",
       "        vertical-align: top;\n",
       "    }\n",
       "\n",
       "    .dataframe thead th {\n",
       "        text-align: right;\n",
       "    }\n",
       "</style>\n",
       "<table border=\"1\" class=\"dataframe\">\n",
       "  <thead>\n",
       "    <tr style=\"text-align: right;\">\n",
       "      <th></th>\n",
       "      <th>date</th>\n",
       "      <th>air_GW</th>\n",
       "      <th>real_pop_GW</th>\n",
       "      <th>pop_GW</th>\n",
       "      <th>pop_male_GW</th>\n",
       "      <th>pop_female_GW</th>\n",
       "      <th>mvpop_GW</th>\n",
       "      <th>station_GW</th>\n",
       "      <th>air_DDM</th>\n",
       "      <th>real_pop_DDM</th>\n",
       "      <th>...</th>\n",
       "      <th>rain(mm)</th>\n",
       "      <th>relative_humidity</th>\n",
       "      <th>distance_stage</th>\n",
       "      <th>distance_total</th>\n",
       "      <th>distance_value</th>\n",
       "      <th>distance_nominal</th>\n",
       "      <th>GW_demand</th>\n",
       "      <th>DDM_demand</th>\n",
       "      <th>SD_demand</th>\n",
       "      <th>JL_demand</th>\n",
       "    </tr>\n",
       "  </thead>\n",
       "  <tbody>\n",
       "    <tr>\n",
       "      <th>0</th>\n",
       "      <td>1/1/2018</td>\n",
       "      <td>0.36</td>\n",
       "      <td>0.832483</td>\n",
       "      <td>0.773941</td>\n",
       "      <td>-0.892289</td>\n",
       "      <td>0.794929</td>\n",
       "      <td>-0.701285</td>\n",
       "      <td>-0.518519</td>\n",
       "      <td>0.625000</td>\n",
       "      <td>0.193881</td>\n",
       "      <td>...</td>\n",
       "      <td>0.0</td>\n",
       "      <td>-1.009217</td>\n",
       "      <td>0.0</td>\n",
       "      <td>0.0</td>\n",
       "      <td>0.0</td>\n",
       "      <td>0.0</td>\n",
       "      <td>-0.831933</td>\n",
       "      <td>-0.777027</td>\n",
       "      <td>-0.849244</td>\n",
       "      <td>-0.734903</td>\n",
       "    </tr>\n",
       "    <tr>\n",
       "      <th>1</th>\n",
       "      <td>1/2/2018</td>\n",
       "      <td>0.40</td>\n",
       "      <td>0.382191</td>\n",
       "      <td>0.773941</td>\n",
       "      <td>-0.892289</td>\n",
       "      <td>0.794929</td>\n",
       "      <td>0.464299</td>\n",
       "      <td>-0.518519</td>\n",
       "      <td>0.500000</td>\n",
       "      <td>0.620841</td>\n",
       "      <td>...</td>\n",
       "      <td>0.0</td>\n",
       "      <td>-0.875576</td>\n",
       "      <td>0.0</td>\n",
       "      <td>0.0</td>\n",
       "      <td>0.0</td>\n",
       "      <td>0.0</td>\n",
       "      <td>-0.791855</td>\n",
       "      <td>-0.717664</td>\n",
       "      <td>-0.758950</td>\n",
       "      <td>-0.705314</td>\n",
       "    </tr>\n",
       "    <tr>\n",
       "      <th>2</th>\n",
       "      <td>1/3/2018</td>\n",
       "      <td>0.04</td>\n",
       "      <td>0.317785</td>\n",
       "      <td>0.773941</td>\n",
       "      <td>-0.892289</td>\n",
       "      <td>0.794929</td>\n",
       "      <td>0.504179</td>\n",
       "      <td>-0.518519</td>\n",
       "      <td>0.250000</td>\n",
       "      <td>0.682977</td>\n",
       "      <td>...</td>\n",
       "      <td>0.0</td>\n",
       "      <td>-0.861751</td>\n",
       "      <td>0.0</td>\n",
       "      <td>0.0</td>\n",
       "      <td>0.0</td>\n",
       "      <td>0.0</td>\n",
       "      <td>-0.793794</td>\n",
       "      <td>-0.726834</td>\n",
       "      <td>-0.775259</td>\n",
       "      <td>-0.696860</td>\n",
       "    </tr>\n",
       "    <tr>\n",
       "      <th>3</th>\n",
       "      <td>1/4/2018</td>\n",
       "      <td>0.44</td>\n",
       "      <td>0.420246</td>\n",
       "      <td>0.773941</td>\n",
       "      <td>-0.892289</td>\n",
       "      <td>0.794929</td>\n",
       "      <td>0.518573</td>\n",
       "      <td>-0.518519</td>\n",
       "      <td>0.708333</td>\n",
       "      <td>0.744058</td>\n",
       "      <td>...</td>\n",
       "      <td>0.0</td>\n",
       "      <td>-0.829493</td>\n",
       "      <td>0.0</td>\n",
       "      <td>0.0</td>\n",
       "      <td>0.0</td>\n",
       "      <td>0.0</td>\n",
       "      <td>-0.799612</td>\n",
       "      <td>-0.735039</td>\n",
       "      <td>-0.782816</td>\n",
       "      <td>-0.695652</td>\n",
       "    </tr>\n",
       "    <tr>\n",
       "      <th>4</th>\n",
       "      <td>1/5/2018</td>\n",
       "      <td>1.24</td>\n",
       "      <td>0.407412</td>\n",
       "      <td>0.773941</td>\n",
       "      <td>-0.892289</td>\n",
       "      <td>0.794929</td>\n",
       "      <td>0.730029</td>\n",
       "      <td>-0.518519</td>\n",
       "      <td>1.416667</td>\n",
       "      <td>0.632762</td>\n",
       "      <td>...</td>\n",
       "      <td>0.0</td>\n",
       "      <td>-0.580645</td>\n",
       "      <td>0.0</td>\n",
       "      <td>0.0</td>\n",
       "      <td>0.0</td>\n",
       "      <td>0.0</td>\n",
       "      <td>-0.795410</td>\n",
       "      <td>-0.720560</td>\n",
       "      <td>-0.766905</td>\n",
       "      <td>-0.690821</td>\n",
       "    </tr>\n",
       "  </tbody>\n",
       "</table>\n",
       "<p>5 rows × 49 columns</p>\n",
       "</div>"
      ],
      "text/plain": [
       "       date  air_GW  real_pop_GW    pop_GW  pop_male_GW  pop_female_GW  \\\n",
       "0  1/1/2018    0.36     0.832483  0.773941    -0.892289       0.794929   \n",
       "1  1/2/2018    0.40     0.382191  0.773941    -0.892289       0.794929   \n",
       "2  1/3/2018    0.04     0.317785  0.773941    -0.892289       0.794929   \n",
       "3  1/4/2018    0.44     0.420246  0.773941    -0.892289       0.794929   \n",
       "4  1/5/2018    1.24     0.407412  0.773941    -0.892289       0.794929   \n",
       "\n",
       "   mvpop_GW  station_GW   air_DDM  real_pop_DDM  ...  rain(mm)  \\\n",
       "0 -0.701285   -0.518519  0.625000      0.193881  ...       0.0   \n",
       "1  0.464299   -0.518519  0.500000      0.620841  ...       0.0   \n",
       "2  0.504179   -0.518519  0.250000      0.682977  ...       0.0   \n",
       "3  0.518573   -0.518519  0.708333      0.744058  ...       0.0   \n",
       "4  0.730029   -0.518519  1.416667      0.632762  ...       0.0   \n",
       "\n",
       "   relative_humidity  distance_stage  distance_total  distance_value  \\\n",
       "0          -1.009217             0.0             0.0             0.0   \n",
       "1          -0.875576             0.0             0.0             0.0   \n",
       "2          -0.861751             0.0             0.0             0.0   \n",
       "3          -0.829493             0.0             0.0             0.0   \n",
       "4          -0.580645             0.0             0.0             0.0   \n",
       "\n",
       "   distance_nominal  GW_demand  DDM_demand  SD_demand  JL_demand  \n",
       "0               0.0  -0.831933   -0.777027  -0.849244  -0.734903  \n",
       "1               0.0  -0.791855   -0.717664  -0.758950  -0.705314  \n",
       "2               0.0  -0.793794   -0.726834  -0.775259  -0.696860  \n",
       "3               0.0  -0.799612   -0.735039  -0.782816  -0.695652  \n",
       "4               0.0  -0.795410   -0.720560  -0.766905  -0.690821  \n",
       "\n",
       "[5 rows x 49 columns]"
      ]
     },
     "execution_count": 40,
     "metadata": {},
     "output_type": "execute_result"
    }
   ],
   "source": [
    "data.head()"
   ]
  },
  {
   "cell_type": "code",
   "execution_count": 41,
   "id": "5cbf8ceb",
   "metadata": {},
   "outputs": [
    {
     "data": {
      "text/plain": [
       "Index(['date', 'air_GW', 'real_pop_GW', 'pop_GW', 'pop_male_GW',\n",
       "       'pop_female_GW', 'mvpop_GW', 'station_GW', 'air_DDM', 'real_pop_DDM',\n",
       "       'pop_DDM', 'pop_male_DDM', 'pop_female_DDM', 'mvpop_DDM', 'station_DDM',\n",
       "       'air_SD', 'real_pop_SD', 'pop_SD', 'pop_male_SD', 'pop_female_SD',\n",
       "       'mvpop_SD', 'station_SD', 'air_JL', 'real_pop_JL', 'pop_JL',\n",
       "       'pop_male_JL', 'pop_female_JL', 'mvpop_JL', 'station_JL',\n",
       "       'keyword_diet', 'keyword_exercise', 'keyword_healthypleasure',\n",
       "       'keyword_environment', 'keyword_green', 'keyword_dust', 'keyword_',\n",
       "       'temp_avg', 'temp_low', 'temp_high', 'rain(mm)', 'relative_humidity',\n",
       "       'distance_stage', 'distance_total', 'distance_value',\n",
       "       'distance_nominal', 'GW_demand', 'DDM_demand', 'SD_demand',\n",
       "       'JL_demand'],\n",
       "      dtype='object')"
      ]
     },
     "execution_count": 41,
     "metadata": {},
     "output_type": "execute_result"
    }
   ],
   "source": [
    "data.columns"
   ]
  },
  {
   "cell_type": "code",
   "execution_count": 42,
   "id": "70f3f72a",
   "metadata": {},
   "outputs": [
    {
     "data": {
      "text/plain": [
       "date                        object\n",
       "air_GW                     float64\n",
       "real_pop_GW                float64\n",
       "pop_GW                     float64\n",
       "pop_male_GW                float64\n",
       "pop_female_GW              float64\n",
       "mvpop_GW                   float64\n",
       "station_GW                 float64\n",
       "air_DDM                    float64\n",
       "real_pop_DDM               float64\n",
       "pop_DDM                    float64\n",
       "pop_male_DDM               float64\n",
       "pop_female_DDM             float64\n",
       "mvpop_DDM                  float64\n",
       "station_DDM                float64\n",
       "air_SD                     float64\n",
       "real_pop_SD                float64\n",
       "pop_SD                     float64\n",
       "pop_male_SD                float64\n",
       "pop_female_SD              float64\n",
       "mvpop_SD                   float64\n",
       "station_SD                 float64\n",
       "air_JL                     float64\n",
       "real_pop_JL                float64\n",
       "pop_JL                     float64\n",
       "pop_male_JL                float64\n",
       "pop_female_JL              float64\n",
       "mvpop_JL                   float64\n",
       "station_JL                 float64\n",
       "keyword_diet               float64\n",
       "keyword_exercise           float64\n",
       "keyword_healthypleasure    float64\n",
       "keyword_environment        float64\n",
       "keyword_green              float64\n",
       "keyword_dust               float64\n",
       "keyword_                   float64\n",
       "temp_avg                   float64\n",
       "temp_low                   float64\n",
       "temp_high                  float64\n",
       "rain(mm)                   float64\n",
       "relative_humidity          float64\n",
       "distance_stage             float64\n",
       "distance_total             float64\n",
       "distance_value             float64\n",
       "distance_nominal           float64\n",
       "GW_demand                  float64\n",
       "DDM_demand                 float64\n",
       "SD_demand                  float64\n",
       "JL_demand                  float64\n",
       "dtype: object"
      ]
     },
     "execution_count": 42,
     "metadata": {},
     "output_type": "execute_result"
    }
   ],
   "source": [
    "data.dtypes"
   ]
  },
  {
   "cell_type": "code",
   "execution_count": 43,
   "id": "45cdbbab",
   "metadata": {},
   "outputs": [],
   "source": [
    "data['date']=pd.to_datetime(data.date)"
   ]
  },
  {
   "cell_type": "code",
   "execution_count": 25,
   "id": "6a4f0422",
   "metadata": {},
   "outputs": [
    {
     "data": {
      "text/plain": [
       "Unnamed: 0                          int64\n",
       "date                       datetime64[ns]\n",
       "air_GW                            float64\n",
       "real_pop_GW                       float64\n",
       "pop_GW                            float64\n",
       "pop_male_GW                       float64\n",
       "pop_female_GW                     float64\n",
       "mvpop_GW                          float64\n",
       "station_GW                        float64\n",
       "air_DDM                           float64\n",
       "real_pop_DDM                      float64\n",
       "pop_DDM                           float64\n",
       "pop_male_DDM                      float64\n",
       "pop_female_DDM                    float64\n",
       "mvpop_DDM                         float64\n",
       "station_DDM                       float64\n",
       "air_SD                            float64\n",
       "real_pop_SD                       float64\n",
       "pop_SD                            float64\n",
       "pop_male_SD                       float64\n",
       "pop_female_SD                     float64\n",
       "mvpop_SD                          float64\n",
       "station_SD                        float64\n",
       "air_JL                            float64\n",
       "real_pop_JL                       float64\n",
       "pop_JL                            float64\n",
       "pop_male_JL                       float64\n",
       "pop_female_JL                     float64\n",
       "mvpop_JL                          float64\n",
       "station_JL                        float64\n",
       "keyword_diet                      float64\n",
       "keyword_exercise                  float64\n",
       "keyword_healthypleasure           float64\n",
       "keyword_environment               float64\n",
       "keyword_green                     float64\n",
       "keyword_dust                      float64\n",
       "keyword_                          float64\n",
       "temp_avg                          float64\n",
       "temp_low                          float64\n",
       "temp_high                         float64\n",
       "rain(mm)                          float64\n",
       "relative_humidity                 float64\n",
       "distance_stage                    float64\n",
       "distance_total                    float64\n",
       "distance_value                    float64\n",
       "distance_nominal                  float64\n",
       "GW_demand                         float64\n",
       "DDM_demand                        float64\n",
       "SD_demand                         float64\n",
       "JL_demand                         float64\n",
       "dtype: object"
      ]
     },
     "execution_count": 25,
     "metadata": {},
     "output_type": "execute_result"
    }
   ],
   "source": [
    "data.dtypes"
   ]
  },
  {
   "cell_type": "code",
   "execution_count": 44,
   "id": "11fbf8b4",
   "metadata": {},
   "outputs": [],
   "source": [
    "data=data.rename(columns={\"date\":\"ds\", \"GW_demand\":\"y\"})"
   ]
  },
  {
   "cell_type": "code",
   "execution_count": 45,
   "id": "dd4dd089",
   "metadata": {},
   "outputs": [],
   "source": [
    "col_lst=['air_GW', 'real_pop_GW', 'pop_GW', 'pop_male_GW',\n",
    "       'pop_female_GW', 'mvpop_GW', 'station_GW', 'air_DDM', 'real_pop_DDM',\n",
    "       'pop_DDM', 'pop_male_DDM', 'pop_female_DDM', 'mvpop_DDM', 'station_DDM',\n",
    "       'air_SD', 'real_pop_SD', 'pop_SD', 'pop_male_SD', 'pop_female_SD',\n",
    "       'mvpop_SD', 'station_SD', 'air_JL', 'real_pop_JL', 'pop_JL',\n",
    "       'pop_male_JL', 'pop_female_JL', 'mvpop_JL', 'station_JL',\n",
    "       'keyword_diet', 'keyword_exercise', 'keyword_healthypleasure',\n",
    "       'keyword_environment', 'keyword_green', 'keyword_dust', 'keyword_',\n",
    "       'temp_avg', 'temp_low', 'temp_high', 'rain(mm)', 'relative_humidity',\n",
    "       'distance_stage', 'distance_total', 'distance_value',\n",
    "       'distance_nominal', 'DDM_demand', 'SD_demand',\n",
    "       'JL_demand']\n",
    "#y변수 정의\n",
    "y_col_lst=['y']"
   ]
  },
  {
   "cell_type": "code",
   "execution_count": 46,
   "id": "a08b2754",
   "metadata": {},
   "outputs": [],
   "source": [
    "cutoff = \"1/1/2021\" #데이터 분할 기준\n",
    "train = data[data['ds']<cutoff]\n",
    "test = data[data['ds']>=cutoff]"
   ]
  },
  {
   "cell_type": "code",
   "execution_count": 47,
   "id": "98e41ede",
   "metadata": {},
   "outputs": [
    {
     "data": {
      "text/html": [
       "<div>\n",
       "<style scoped>\n",
       "    .dataframe tbody tr th:only-of-type {\n",
       "        vertical-align: middle;\n",
       "    }\n",
       "\n",
       "    .dataframe tbody tr th {\n",
       "        vertical-align: top;\n",
       "    }\n",
       "\n",
       "    .dataframe thead th {\n",
       "        text-align: right;\n",
       "    }\n",
       "</style>\n",
       "<table border=\"1\" class=\"dataframe\">\n",
       "  <thead>\n",
       "    <tr style=\"text-align: right;\">\n",
       "      <th></th>\n",
       "      <th>ds</th>\n",
       "      <th>air_GW</th>\n",
       "      <th>real_pop_GW</th>\n",
       "      <th>pop_GW</th>\n",
       "      <th>pop_male_GW</th>\n",
       "      <th>pop_female_GW</th>\n",
       "      <th>mvpop_GW</th>\n",
       "      <th>station_GW</th>\n",
       "      <th>air_DDM</th>\n",
       "      <th>real_pop_DDM</th>\n",
       "      <th>...</th>\n",
       "      <th>rain(mm)</th>\n",
       "      <th>relative_humidity</th>\n",
       "      <th>distance_stage</th>\n",
       "      <th>distance_total</th>\n",
       "      <th>distance_value</th>\n",
       "      <th>distance_nominal</th>\n",
       "      <th>y</th>\n",
       "      <th>DDM_demand</th>\n",
       "      <th>SD_demand</th>\n",
       "      <th>JL_demand</th>\n",
       "    </tr>\n",
       "  </thead>\n",
       "  <tbody>\n",
       "    <tr>\n",
       "      <th>1096</th>\n",
       "      <td>2021-01-01</td>\n",
       "      <td>-0.32</td>\n",
       "      <td>-0.590671</td>\n",
       "      <td>-0.61659</td>\n",
       "      <td>0.704229</td>\n",
       "      <td>-0.59657</td>\n",
       "      <td>-1.728469</td>\n",
       "      <td>1.0</td>\n",
       "      <td>-0.333333</td>\n",
       "      <td>-0.903833</td>\n",
       "      <td>...</td>\n",
       "      <td>0.0</td>\n",
       "      <td>0.138249</td>\n",
       "      <td>1.25</td>\n",
       "      <td>1.0</td>\n",
       "      <td>1.25</td>\n",
       "      <td>1.333333</td>\n",
       "      <td>-0.593083</td>\n",
       "      <td>-0.467664</td>\n",
       "      <td>-0.631265</td>\n",
       "      <td>-0.414855</td>\n",
       "    </tr>\n",
       "    <tr>\n",
       "      <th>1097</th>\n",
       "      <td>2021-01-02</td>\n",
       "      <td>-0.16</td>\n",
       "      <td>-0.543342</td>\n",
       "      <td>-0.61659</td>\n",
       "      <td>0.704229</td>\n",
       "      <td>-0.59657</td>\n",
       "      <td>-1.366964</td>\n",
       "      <td>1.0</td>\n",
       "      <td>-0.166667</td>\n",
       "      <td>-0.861239</td>\n",
       "      <td>...</td>\n",
       "      <td>0.0</td>\n",
       "      <td>-1.036866</td>\n",
       "      <td>1.25</td>\n",
       "      <td>1.0</td>\n",
       "      <td>1.25</td>\n",
       "      <td>1.333333</td>\n",
       "      <td>-0.594376</td>\n",
       "      <td>-0.405888</td>\n",
       "      <td>-0.602228</td>\n",
       "      <td>-0.349034</td>\n",
       "    </tr>\n",
       "    <tr>\n",
       "      <th>1098</th>\n",
       "      <td>2021-01-03</td>\n",
       "      <td>0.08</td>\n",
       "      <td>-0.271586</td>\n",
       "      <td>-0.61659</td>\n",
       "      <td>0.704229</td>\n",
       "      <td>-0.59657</td>\n",
       "      <td>-1.544642</td>\n",
       "      <td>1.0</td>\n",
       "      <td>-0.041667</td>\n",
       "      <td>-0.649211</td>\n",
       "      <td>...</td>\n",
       "      <td>0.0</td>\n",
       "      <td>-0.737327</td>\n",
       "      <td>1.25</td>\n",
       "      <td>1.0</td>\n",
       "      <td>1.25</td>\n",
       "      <td>1.333333</td>\n",
       "      <td>-0.617647</td>\n",
       "      <td>-0.418436</td>\n",
       "      <td>-0.604614</td>\n",
       "      <td>-0.397947</td>\n",
       "    </tr>\n",
       "    <tr>\n",
       "      <th>1099</th>\n",
       "      <td>2021-01-04</td>\n",
       "      <td>0.04</td>\n",
       "      <td>-0.638856</td>\n",
       "      <td>-0.61659</td>\n",
       "      <td>0.704229</td>\n",
       "      <td>-0.59657</td>\n",
       "      <td>-0.570305</td>\n",
       "      <td>1.0</td>\n",
       "      <td>0.083333</td>\n",
       "      <td>-0.512752</td>\n",
       "      <td>...</td>\n",
       "      <td>0.0</td>\n",
       "      <td>-0.442396</td>\n",
       "      <td>1.25</td>\n",
       "      <td>1.0</td>\n",
       "      <td>1.25</td>\n",
       "      <td>1.333333</td>\n",
       "      <td>-0.404331</td>\n",
       "      <td>-0.210425</td>\n",
       "      <td>-0.381066</td>\n",
       "      <td>-0.267512</td>\n",
       "    </tr>\n",
       "    <tr>\n",
       "      <th>1100</th>\n",
       "      <td>2021-01-05</td>\n",
       "      <td>-0.40</td>\n",
       "      <td>-0.628863</td>\n",
       "      <td>-0.61659</td>\n",
       "      <td>0.704229</td>\n",
       "      <td>-0.59657</td>\n",
       "      <td>-0.543921</td>\n",
       "      <td>1.0</td>\n",
       "      <td>-0.166667</td>\n",
       "      <td>-0.518977</td>\n",
       "      <td>...</td>\n",
       "      <td>0.0</td>\n",
       "      <td>-0.377880</td>\n",
       "      <td>1.25</td>\n",
       "      <td>1.0</td>\n",
       "      <td>1.25</td>\n",
       "      <td>1.333333</td>\n",
       "      <td>-0.464771</td>\n",
       "      <td>-0.293436</td>\n",
       "      <td>-0.462212</td>\n",
       "      <td>-0.321860</td>\n",
       "    </tr>\n",
       "  </tbody>\n",
       "</table>\n",
       "<p>5 rows × 49 columns</p>\n",
       "</div>"
      ],
      "text/plain": [
       "             ds  air_GW  real_pop_GW   pop_GW  pop_male_GW  pop_female_GW  \\\n",
       "1096 2021-01-01   -0.32    -0.590671 -0.61659     0.704229       -0.59657   \n",
       "1097 2021-01-02   -0.16    -0.543342 -0.61659     0.704229       -0.59657   \n",
       "1098 2021-01-03    0.08    -0.271586 -0.61659     0.704229       -0.59657   \n",
       "1099 2021-01-04    0.04    -0.638856 -0.61659     0.704229       -0.59657   \n",
       "1100 2021-01-05   -0.40    -0.628863 -0.61659     0.704229       -0.59657   \n",
       "\n",
       "      mvpop_GW  station_GW   air_DDM  real_pop_DDM  ...  rain(mm)  \\\n",
       "1096 -1.728469         1.0 -0.333333     -0.903833  ...       0.0   \n",
       "1097 -1.366964         1.0 -0.166667     -0.861239  ...       0.0   \n",
       "1098 -1.544642         1.0 -0.041667     -0.649211  ...       0.0   \n",
       "1099 -0.570305         1.0  0.083333     -0.512752  ...       0.0   \n",
       "1100 -0.543921         1.0 -0.166667     -0.518977  ...       0.0   \n",
       "\n",
       "      relative_humidity  distance_stage  distance_total  distance_value  \\\n",
       "1096           0.138249            1.25             1.0            1.25   \n",
       "1097          -1.036866            1.25             1.0            1.25   \n",
       "1098          -0.737327            1.25             1.0            1.25   \n",
       "1099          -0.442396            1.25             1.0            1.25   \n",
       "1100          -0.377880            1.25             1.0            1.25   \n",
       "\n",
       "      distance_nominal         y  DDM_demand  SD_demand  JL_demand  \n",
       "1096          1.333333 -0.593083   -0.467664  -0.631265  -0.414855  \n",
       "1097          1.333333 -0.594376   -0.405888  -0.602228  -0.349034  \n",
       "1098          1.333333 -0.617647   -0.418436  -0.604614  -0.397947  \n",
       "1099          1.333333 -0.404331   -0.210425  -0.381066  -0.267512  \n",
       "1100          1.333333 -0.464771   -0.293436  -0.462212  -0.321860  \n",
       "\n",
       "[5 rows x 49 columns]"
      ]
     },
     "execution_count": 47,
     "metadata": {},
     "output_type": "execute_result"
    }
   ],
   "source": [
    "test.head()"
   ]
  },
  {
   "cell_type": "code",
   "execution_count": 48,
   "id": "a9240c81",
   "metadata": {},
   "outputs": [
    {
     "data": {
      "text/html": [
       "<div>\n",
       "<style scoped>\n",
       "    .dataframe tbody tr th:only-of-type {\n",
       "        vertical-align: middle;\n",
       "    }\n",
       "\n",
       "    .dataframe tbody tr th {\n",
       "        vertical-align: top;\n",
       "    }\n",
       "\n",
       "    .dataframe thead th {\n",
       "        text-align: right;\n",
       "    }\n",
       "</style>\n",
       "<table border=\"1\" class=\"dataframe\">\n",
       "  <thead>\n",
       "    <tr style=\"text-align: right;\">\n",
       "      <th></th>\n",
       "      <th>ds</th>\n",
       "      <th>air_GW</th>\n",
       "      <th>real_pop_GW</th>\n",
       "      <th>pop_GW</th>\n",
       "      <th>pop_male_GW</th>\n",
       "      <th>pop_female_GW</th>\n",
       "      <th>mvpop_GW</th>\n",
       "      <th>station_GW</th>\n",
       "      <th>air_DDM</th>\n",
       "      <th>real_pop_DDM</th>\n",
       "      <th>...</th>\n",
       "      <th>rain(mm)</th>\n",
       "      <th>relative_humidity</th>\n",
       "      <th>distance_stage</th>\n",
       "      <th>distance_total</th>\n",
       "      <th>distance_value</th>\n",
       "      <th>distance_nominal</th>\n",
       "      <th>y</th>\n",
       "      <th>DDM_demand</th>\n",
       "      <th>SD_demand</th>\n",
       "      <th>JL_demand</th>\n",
       "    </tr>\n",
       "  </thead>\n",
       "  <tbody>\n",
       "    <tr>\n",
       "      <th>0</th>\n",
       "      <td>2018-01-01</td>\n",
       "      <td>0.36</td>\n",
       "      <td>0.832483</td>\n",
       "      <td>0.773941</td>\n",
       "      <td>-0.892289</td>\n",
       "      <td>0.794929</td>\n",
       "      <td>-0.701285</td>\n",
       "      <td>-0.518519</td>\n",
       "      <td>0.625000</td>\n",
       "      <td>0.193881</td>\n",
       "      <td>...</td>\n",
       "      <td>0.0</td>\n",
       "      <td>-1.009217</td>\n",
       "      <td>0.0</td>\n",
       "      <td>0.0</td>\n",
       "      <td>0.0</td>\n",
       "      <td>0.0</td>\n",
       "      <td>-0.831933</td>\n",
       "      <td>-0.777027</td>\n",
       "      <td>-0.849244</td>\n",
       "      <td>-0.734903</td>\n",
       "    </tr>\n",
       "    <tr>\n",
       "      <th>1</th>\n",
       "      <td>2018-01-02</td>\n",
       "      <td>0.40</td>\n",
       "      <td>0.382191</td>\n",
       "      <td>0.773941</td>\n",
       "      <td>-0.892289</td>\n",
       "      <td>0.794929</td>\n",
       "      <td>0.464299</td>\n",
       "      <td>-0.518519</td>\n",
       "      <td>0.500000</td>\n",
       "      <td>0.620841</td>\n",
       "      <td>...</td>\n",
       "      <td>0.0</td>\n",
       "      <td>-0.875576</td>\n",
       "      <td>0.0</td>\n",
       "      <td>0.0</td>\n",
       "      <td>0.0</td>\n",
       "      <td>0.0</td>\n",
       "      <td>-0.791855</td>\n",
       "      <td>-0.717664</td>\n",
       "      <td>-0.758950</td>\n",
       "      <td>-0.705314</td>\n",
       "    </tr>\n",
       "    <tr>\n",
       "      <th>2</th>\n",
       "      <td>2018-01-03</td>\n",
       "      <td>0.04</td>\n",
       "      <td>0.317785</td>\n",
       "      <td>0.773941</td>\n",
       "      <td>-0.892289</td>\n",
       "      <td>0.794929</td>\n",
       "      <td>0.504179</td>\n",
       "      <td>-0.518519</td>\n",
       "      <td>0.250000</td>\n",
       "      <td>0.682977</td>\n",
       "      <td>...</td>\n",
       "      <td>0.0</td>\n",
       "      <td>-0.861751</td>\n",
       "      <td>0.0</td>\n",
       "      <td>0.0</td>\n",
       "      <td>0.0</td>\n",
       "      <td>0.0</td>\n",
       "      <td>-0.793794</td>\n",
       "      <td>-0.726834</td>\n",
       "      <td>-0.775259</td>\n",
       "      <td>-0.696860</td>\n",
       "    </tr>\n",
       "    <tr>\n",
       "      <th>3</th>\n",
       "      <td>2018-01-04</td>\n",
       "      <td>0.44</td>\n",
       "      <td>0.420246</td>\n",
       "      <td>0.773941</td>\n",
       "      <td>-0.892289</td>\n",
       "      <td>0.794929</td>\n",
       "      <td>0.518573</td>\n",
       "      <td>-0.518519</td>\n",
       "      <td>0.708333</td>\n",
       "      <td>0.744058</td>\n",
       "      <td>...</td>\n",
       "      <td>0.0</td>\n",
       "      <td>-0.829493</td>\n",
       "      <td>0.0</td>\n",
       "      <td>0.0</td>\n",
       "      <td>0.0</td>\n",
       "      <td>0.0</td>\n",
       "      <td>-0.799612</td>\n",
       "      <td>-0.735039</td>\n",
       "      <td>-0.782816</td>\n",
       "      <td>-0.695652</td>\n",
       "    </tr>\n",
       "    <tr>\n",
       "      <th>4</th>\n",
       "      <td>2018-01-05</td>\n",
       "      <td>1.24</td>\n",
       "      <td>0.407412</td>\n",
       "      <td>0.773941</td>\n",
       "      <td>-0.892289</td>\n",
       "      <td>0.794929</td>\n",
       "      <td>0.730029</td>\n",
       "      <td>-0.518519</td>\n",
       "      <td>1.416667</td>\n",
       "      <td>0.632762</td>\n",
       "      <td>...</td>\n",
       "      <td>0.0</td>\n",
       "      <td>-0.580645</td>\n",
       "      <td>0.0</td>\n",
       "      <td>0.0</td>\n",
       "      <td>0.0</td>\n",
       "      <td>0.0</td>\n",
       "      <td>-0.795410</td>\n",
       "      <td>-0.720560</td>\n",
       "      <td>-0.766905</td>\n",
       "      <td>-0.690821</td>\n",
       "    </tr>\n",
       "  </tbody>\n",
       "</table>\n",
       "<p>5 rows × 49 columns</p>\n",
       "</div>"
      ],
      "text/plain": [
       "          ds  air_GW  real_pop_GW    pop_GW  pop_male_GW  pop_female_GW  \\\n",
       "0 2018-01-01    0.36     0.832483  0.773941    -0.892289       0.794929   \n",
       "1 2018-01-02    0.40     0.382191  0.773941    -0.892289       0.794929   \n",
       "2 2018-01-03    0.04     0.317785  0.773941    -0.892289       0.794929   \n",
       "3 2018-01-04    0.44     0.420246  0.773941    -0.892289       0.794929   \n",
       "4 2018-01-05    1.24     0.407412  0.773941    -0.892289       0.794929   \n",
       "\n",
       "   mvpop_GW  station_GW   air_DDM  real_pop_DDM  ...  rain(mm)  \\\n",
       "0 -0.701285   -0.518519  0.625000      0.193881  ...       0.0   \n",
       "1  0.464299   -0.518519  0.500000      0.620841  ...       0.0   \n",
       "2  0.504179   -0.518519  0.250000      0.682977  ...       0.0   \n",
       "3  0.518573   -0.518519  0.708333      0.744058  ...       0.0   \n",
       "4  0.730029   -0.518519  1.416667      0.632762  ...       0.0   \n",
       "\n",
       "   relative_humidity  distance_stage  distance_total  distance_value  \\\n",
       "0          -1.009217             0.0             0.0             0.0   \n",
       "1          -0.875576             0.0             0.0             0.0   \n",
       "2          -0.861751             0.0             0.0             0.0   \n",
       "3          -0.829493             0.0             0.0             0.0   \n",
       "4          -0.580645             0.0             0.0             0.0   \n",
       "\n",
       "   distance_nominal         y  DDM_demand  SD_demand  JL_demand  \n",
       "0               0.0 -0.831933   -0.777027  -0.849244  -0.734903  \n",
       "1               0.0 -0.791855   -0.717664  -0.758950  -0.705314  \n",
       "2               0.0 -0.793794   -0.726834  -0.775259  -0.696860  \n",
       "3               0.0 -0.799612   -0.735039  -0.782816  -0.695652  \n",
       "4               0.0 -0.795410   -0.720560  -0.766905  -0.690821  \n",
       "\n",
       "[5 rows x 49 columns]"
      ]
     },
     "execution_count": 48,
     "metadata": {},
     "output_type": "execute_result"
    }
   ],
   "source": [
    "train.head()"
   ]
  },
  {
   "cell_type": "code",
   "execution_count": 65,
   "id": "246f58b7",
   "metadata": {},
   "outputs": [
    {
     "data": {
      "text/plain": [
       "ds                         False\n",
       "air_GW                     False\n",
       "real_pop_GW                False\n",
       "pop_GW                     False\n",
       "pop_male_GW                False\n",
       "pop_female_GW              False\n",
       "mvpop_GW                   False\n",
       "station_GW                 False\n",
       "air_DDM                    False\n",
       "real_pop_DDM               False\n",
       "pop_DDM                    False\n",
       "pop_male_DDM               False\n",
       "pop_female_DDM             False\n",
       "mvpop_DDM                  False\n",
       "station_DDM                False\n",
       "air_SD                     False\n",
       "real_pop_SD                False\n",
       "pop_SD                     False\n",
       "pop_male_SD                False\n",
       "pop_female_SD              False\n",
       "mvpop_SD                   False\n",
       "station_SD                 False\n",
       "air_JL                     False\n",
       "real_pop_JL                False\n",
       "pop_JL                     False\n",
       "pop_male_JL                False\n",
       "pop_female_JL              False\n",
       "mvpop_JL                   False\n",
       "station_JL                 False\n",
       "keyword_diet               False\n",
       "keyword_exercise           False\n",
       "keyword_healthypleasure    False\n",
       "keyword_environment        False\n",
       "keyword_green              False\n",
       "keyword_dust               False\n",
       "keyword_                   False\n",
       "temp_avg                   False\n",
       "temp_low                   False\n",
       "temp_high                  False\n",
       "rain(mm)                   False\n",
       "relative_humidity          False\n",
       "distance_stage             False\n",
       "distance_total             False\n",
       "distance_value             False\n",
       "distance_nominal           False\n",
       "y                          False\n",
       "DDM_demand                 False\n",
       "SD_demand                  False\n",
       "JL_demand                  False\n",
       "dtype: bool"
      ]
     },
     "execution_count": 65,
     "metadata": {},
     "output_type": "execute_result"
    }
   ],
   "source": [
    "data.isnull().any()"
   ]
  },
  {
   "cell_type": "code",
   "execution_count": 67,
   "id": "0b044c29",
   "metadata": {
    "scrolled": true
   },
   "outputs": [
    {
     "data": {
      "application/vnd.jupyter.widget-view+json": {
       "model_id": "d497289d8424423aa81eb1d9d541b3b2",
       "version_major": 2,
       "version_minor": 0
      },
      "text/plain": [
       "Finding best initial lr:   0%|          | 0/226 [00:00<?, ?it/s]"
      ]
     },
     "metadata": {},
     "output_type": "display_data"
    },
    {
     "data": {
      "application/vnd.jupyter.widget-view+json": {
       "model_id": "aab4292e9a9e4cda891d3c868fa4e0a0",
       "version_major": 2,
       "version_minor": 0
      },
      "text/plain": [
       "Training: 0it [00:00, ?it/s]"
      ]
     },
     "metadata": {},
     "output_type": "display_data"
    },
    {
     "data": {
      "application/vnd.jupyter.widget-view+json": {
       "model_id": "",
       "version_major": 2,
       "version_minor": 0
      },
      "text/plain": [
       "Validation: 0it [00:00, ?it/s]"
      ]
     },
     "metadata": {},
     "output_type": "display_data"
    },
    {
     "data": {
      "application/vnd.jupyter.widget-view+json": {
       "model_id": "",
       "version_major": 2,
       "version_minor": 0
      },
      "text/plain": [
       "Validation: 0it [00:00, ?it/s]"
      ]
     },
     "metadata": {},
     "output_type": "display_data"
    },
    {
     "data": {
      "application/vnd.jupyter.widget-view+json": {
       "model_id": "",
       "version_major": 2,
       "version_minor": 0
      },
      "text/plain": [
       "Validation: 0it [00:00, ?it/s]"
      ]
     },
     "metadata": {},
     "output_type": "display_data"
    },
    {
     "data": {
      "application/vnd.jupyter.widget-view+json": {
       "model_id": "",
       "version_major": 2,
       "version_minor": 0
      },
      "text/plain": [
       "Validation: 0it [00:00, ?it/s]"
      ]
     },
     "metadata": {},
     "output_type": "display_data"
    },
    {
     "data": {
      "application/vnd.jupyter.widget-view+json": {
       "model_id": "",
       "version_major": 2,
       "version_minor": 0
      },
      "text/plain": [
       "Validation: 0it [00:00, ?it/s]"
      ]
     },
     "metadata": {},
     "output_type": "display_data"
    },
    {
     "data": {
      "application/vnd.jupyter.widget-view+json": {
       "model_id": "",
       "version_major": 2,
       "version_minor": 0
      },
      "text/plain": [
       "Validation: 0it [00:00, ?it/s]"
      ]
     },
     "metadata": {},
     "output_type": "display_data"
    },
    {
     "data": {
      "application/vnd.jupyter.widget-view+json": {
       "model_id": "",
       "version_major": 2,
       "version_minor": 0
      },
      "text/plain": [
       "Validation: 0it [00:00, ?it/s]"
      ]
     },
     "metadata": {},
     "output_type": "display_data"
    },
    {
     "data": {
      "application/vnd.jupyter.widget-view+json": {
       "model_id": "",
       "version_major": 2,
       "version_minor": 0
      },
      "text/plain": [
       "Validation: 0it [00:00, ?it/s]"
      ]
     },
     "metadata": {},
     "output_type": "display_data"
    },
    {
     "data": {
      "application/vnd.jupyter.widget-view+json": {
       "model_id": "",
       "version_major": 2,
       "version_minor": 0
      },
      "text/plain": [
       "Validation: 0it [00:00, ?it/s]"
      ]
     },
     "metadata": {},
     "output_type": "display_data"
    },
    {
     "data": {
      "application/vnd.jupyter.widget-view+json": {
       "model_id": "",
       "version_major": 2,
       "version_minor": 0
      },
      "text/plain": [
       "Validation: 0it [00:00, ?it/s]"
      ]
     },
     "metadata": {},
     "output_type": "display_data"
    },
    {
     "data": {
      "application/vnd.jupyter.widget-view+json": {
       "model_id": "",
       "version_major": 2,
       "version_minor": 0
      },
      "text/plain": [
       "Validation: 0it [00:00, ?it/s]"
      ]
     },
     "metadata": {},
     "output_type": "display_data"
    },
    {
     "data": {
      "application/vnd.jupyter.widget-view+json": {
       "model_id": "",
       "version_major": 2,
       "version_minor": 0
      },
      "text/plain": [
       "Validation: 0it [00:00, ?it/s]"
      ]
     },
     "metadata": {},
     "output_type": "display_data"
    },
    {
     "data": {
      "application/vnd.jupyter.widget-view+json": {
       "model_id": "",
       "version_major": 2,
       "version_minor": 0
      },
      "text/plain": [
       "Validation: 0it [00:00, ?it/s]"
      ]
     },
     "metadata": {},
     "output_type": "display_data"
    },
    {
     "data": {
      "application/vnd.jupyter.widget-view+json": {
       "model_id": "",
       "version_major": 2,
       "version_minor": 0
      },
      "text/plain": [
       "Validation: 0it [00:00, ?it/s]"
      ]
     },
     "metadata": {},
     "output_type": "display_data"
    },
    {
     "data": {
      "application/vnd.jupyter.widget-view+json": {
       "model_id": "",
       "version_major": 2,
       "version_minor": 0
      },
      "text/plain": [
       "Validation: 0it [00:00, ?it/s]"
      ]
     },
     "metadata": {},
     "output_type": "display_data"
    },
    {
     "data": {
      "application/vnd.jupyter.widget-view+json": {
       "model_id": "",
       "version_major": 2,
       "version_minor": 0
      },
      "text/plain": [
       "Validation: 0it [00:00, ?it/s]"
      ]
     },
     "metadata": {},
     "output_type": "display_data"
    },
    {
     "data": {
      "application/vnd.jupyter.widget-view+json": {
       "model_id": "",
       "version_major": 2,
       "version_minor": 0
      },
      "text/plain": [
       "Validation: 0it [00:00, ?it/s]"
      ]
     },
     "metadata": {},
     "output_type": "display_data"
    },
    {
     "data": {
      "application/vnd.jupyter.widget-view+json": {
       "model_id": "",
       "version_major": 2,
       "version_minor": 0
      },
      "text/plain": [
       "Validation: 0it [00:00, ?it/s]"
      ]
     },
     "metadata": {},
     "output_type": "display_data"
    },
    {
     "data": {
      "application/vnd.jupyter.widget-view+json": {
       "model_id": "",
       "version_major": 2,
       "version_minor": 0
      },
      "text/plain": [
       "Validation: 0it [00:00, ?it/s]"
      ]
     },
     "metadata": {},
     "output_type": "display_data"
    },
    {
     "data": {
      "application/vnd.jupyter.widget-view+json": {
       "model_id": "",
       "version_major": 2,
       "version_minor": 0
      },
      "text/plain": [
       "Validation: 0it [00:00, ?it/s]"
      ]
     },
     "metadata": {},
     "output_type": "display_data"
    },
    {
     "data": {
      "application/vnd.jupyter.widget-view+json": {
       "model_id": "",
       "version_major": 2,
       "version_minor": 0
      },
      "text/plain": [
       "Validation: 0it [00:00, ?it/s]"
      ]
     },
     "metadata": {},
     "output_type": "display_data"
    },
    {
     "data": {
      "application/vnd.jupyter.widget-view+json": {
       "model_id": "",
       "version_major": 2,
       "version_minor": 0
      },
      "text/plain": [
       "Validation: 0it [00:00, ?it/s]"
      ]
     },
     "metadata": {},
     "output_type": "display_data"
    },
    {
     "data": {
      "application/vnd.jupyter.widget-view+json": {
       "model_id": "",
       "version_major": 2,
       "version_minor": 0
      },
      "text/plain": [
       "Validation: 0it [00:00, ?it/s]"
      ]
     },
     "metadata": {},
     "output_type": "display_data"
    },
    {
     "data": {
      "application/vnd.jupyter.widget-view+json": {
       "model_id": "",
       "version_major": 2,
       "version_minor": 0
      },
      "text/plain": [
       "Validation: 0it [00:00, ?it/s]"
      ]
     },
     "metadata": {},
     "output_type": "display_data"
    },
    {
     "data": {
      "application/vnd.jupyter.widget-view+json": {
       "model_id": "",
       "version_major": 2,
       "version_minor": 0
      },
      "text/plain": [
       "Validation: 0it [00:00, ?it/s]"
      ]
     },
     "metadata": {},
     "output_type": "display_data"
    },
    {
     "data": {
      "application/vnd.jupyter.widget-view+json": {
       "model_id": "",
       "version_major": 2,
       "version_minor": 0
      },
      "text/plain": [
       "Validation: 0it [00:00, ?it/s]"
      ]
     },
     "metadata": {},
     "output_type": "display_data"
    },
    {
     "data": {
      "application/vnd.jupyter.widget-view+json": {
       "model_id": "",
       "version_major": 2,
       "version_minor": 0
      },
      "text/plain": [
       "Validation: 0it [00:00, ?it/s]"
      ]
     },
     "metadata": {},
     "output_type": "display_data"
    },
    {
     "data": {
      "application/vnd.jupyter.widget-view+json": {
       "model_id": "",
       "version_major": 2,
       "version_minor": 0
      },
      "text/plain": [
       "Validation: 0it [00:00, ?it/s]"
      ]
     },
     "metadata": {},
     "output_type": "display_data"
    },
    {
     "data": {
      "application/vnd.jupyter.widget-view+json": {
       "model_id": "",
       "version_major": 2,
       "version_minor": 0
      },
      "text/plain": [
       "Validation: 0it [00:00, ?it/s]"
      ]
     },
     "metadata": {},
     "output_type": "display_data"
    },
    {
     "data": {
      "application/vnd.jupyter.widget-view+json": {
       "model_id": "",
       "version_major": 2,
       "version_minor": 0
      },
      "text/plain": [
       "Validation: 0it [00:00, ?it/s]"
      ]
     },
     "metadata": {},
     "output_type": "display_data"
    },
    {
     "data": {
      "application/vnd.jupyter.widget-view+json": {
       "model_id": "",
       "version_major": 2,
       "version_minor": 0
      },
      "text/plain": [
       "Validation: 0it [00:00, ?it/s]"
      ]
     },
     "metadata": {},
     "output_type": "display_data"
    },
    {
     "data": {
      "application/vnd.jupyter.widget-view+json": {
       "model_id": "",
       "version_major": 2,
       "version_minor": 0
      },
      "text/plain": [
       "Validation: 0it [00:00, ?it/s]"
      ]
     },
     "metadata": {},
     "output_type": "display_data"
    },
    {
     "data": {
      "application/vnd.jupyter.widget-view+json": {
       "model_id": "",
       "version_major": 2,
       "version_minor": 0
      },
      "text/plain": [
       "Validation: 0it [00:00, ?it/s]"
      ]
     },
     "metadata": {},
     "output_type": "display_data"
    },
    {
     "data": {
      "application/vnd.jupyter.widget-view+json": {
       "model_id": "",
       "version_major": 2,
       "version_minor": 0
      },
      "text/plain": [
       "Validation: 0it [00:00, ?it/s]"
      ]
     },
     "metadata": {},
     "output_type": "display_data"
    },
    {
     "data": {
      "application/vnd.jupyter.widget-view+json": {
       "model_id": "",
       "version_major": 2,
       "version_minor": 0
      },
      "text/plain": [
       "Validation: 0it [00:00, ?it/s]"
      ]
     },
     "metadata": {},
     "output_type": "display_data"
    },
    {
     "data": {
      "application/vnd.jupyter.widget-view+json": {
       "model_id": "",
       "version_major": 2,
       "version_minor": 0
      },
      "text/plain": [
       "Validation: 0it [00:00, ?it/s]"
      ]
     },
     "metadata": {},
     "output_type": "display_data"
    },
    {
     "data": {
      "application/vnd.jupyter.widget-view+json": {
       "model_id": "",
       "version_major": 2,
       "version_minor": 0
      },
      "text/plain": [
       "Validation: 0it [00:00, ?it/s]"
      ]
     },
     "metadata": {},
     "output_type": "display_data"
    },
    {
     "data": {
      "application/vnd.jupyter.widget-view+json": {
       "model_id": "",
       "version_major": 2,
       "version_minor": 0
      },
      "text/plain": [
       "Validation: 0it [00:00, ?it/s]"
      ]
     },
     "metadata": {},
     "output_type": "display_data"
    },
    {
     "data": {
      "application/vnd.jupyter.widget-view+json": {
       "model_id": "",
       "version_major": 2,
       "version_minor": 0
      },
      "text/plain": [
       "Validation: 0it [00:00, ?it/s]"
      ]
     },
     "metadata": {},
     "output_type": "display_data"
    },
    {
     "data": {
      "application/vnd.jupyter.widget-view+json": {
       "model_id": "",
       "version_major": 2,
       "version_minor": 0
      },
      "text/plain": [
       "Validation: 0it [00:00, ?it/s]"
      ]
     },
     "metadata": {},
     "output_type": "display_data"
    },
    {
     "data": {
      "application/vnd.jupyter.widget-view+json": {
       "model_id": "",
       "version_major": 2,
       "version_minor": 0
      },
      "text/plain": [
       "Validation: 0it [00:00, ?it/s]"
      ]
     },
     "metadata": {},
     "output_type": "display_data"
    },
    {
     "data": {
      "application/vnd.jupyter.widget-view+json": {
       "model_id": "",
       "version_major": 2,
       "version_minor": 0
      },
      "text/plain": [
       "Validation: 0it [00:00, ?it/s]"
      ]
     },
     "metadata": {},
     "output_type": "display_data"
    },
    {
     "data": {
      "application/vnd.jupyter.widget-view+json": {
       "model_id": "",
       "version_major": 2,
       "version_minor": 0
      },
      "text/plain": [
       "Validation: 0it [00:00, ?it/s]"
      ]
     },
     "metadata": {},
     "output_type": "display_data"
    },
    {
     "data": {
      "application/vnd.jupyter.widget-view+json": {
       "model_id": "",
       "version_major": 2,
       "version_minor": 0
      },
      "text/plain": [
       "Validation: 0it [00:00, ?it/s]"
      ]
     },
     "metadata": {},
     "output_type": "display_data"
    },
    {
     "data": {
      "application/vnd.jupyter.widget-view+json": {
       "model_id": "",
       "version_major": 2,
       "version_minor": 0
      },
      "text/plain": [
       "Validation: 0it [00:00, ?it/s]"
      ]
     },
     "metadata": {},
     "output_type": "display_data"
    },
    {
     "data": {
      "application/vnd.jupyter.widget-view+json": {
       "model_id": "",
       "version_major": 2,
       "version_minor": 0
      },
      "text/plain": [
       "Validation: 0it [00:00, ?it/s]"
      ]
     },
     "metadata": {},
     "output_type": "display_data"
    },
    {
     "data": {
      "application/vnd.jupyter.widget-view+json": {
       "model_id": "",
       "version_major": 2,
       "version_minor": 0
      },
      "text/plain": [
       "Validation: 0it [00:00, ?it/s]"
      ]
     },
     "metadata": {},
     "output_type": "display_data"
    },
    {
     "data": {
      "application/vnd.jupyter.widget-view+json": {
       "model_id": "",
       "version_major": 2,
       "version_minor": 0
      },
      "text/plain": [
       "Validation: 0it [00:00, ?it/s]"
      ]
     },
     "metadata": {},
     "output_type": "display_data"
    },
    {
     "data": {
      "application/vnd.jupyter.widget-view+json": {
       "model_id": "",
       "version_major": 2,
       "version_minor": 0
      },
      "text/plain": [
       "Validation: 0it [00:00, ?it/s]"
      ]
     },
     "metadata": {},
     "output_type": "display_data"
    },
    {
     "data": {
      "application/vnd.jupyter.widget-view+json": {
       "model_id": "",
       "version_major": 2,
       "version_minor": 0
      },
      "text/plain": [
       "Validation: 0it [00:00, ?it/s]"
      ]
     },
     "metadata": {},
     "output_type": "display_data"
    },
    {
     "data": {
      "application/vnd.jupyter.widget-view+json": {
       "model_id": "",
       "version_major": 2,
       "version_minor": 0
      },
      "text/plain": [
       "Validation: 0it [00:00, ?it/s]"
      ]
     },
     "metadata": {},
     "output_type": "display_data"
    },
    {
     "data": {
      "application/vnd.jupyter.widget-view+json": {
       "model_id": "",
       "version_major": 2,
       "version_minor": 0
      },
      "text/plain": [
       "Validation: 0it [00:00, ?it/s]"
      ]
     },
     "metadata": {},
     "output_type": "display_data"
    },
    {
     "data": {
      "application/vnd.jupyter.widget-view+json": {
       "model_id": "",
       "version_major": 2,
       "version_minor": 0
      },
      "text/plain": [
       "Validation: 0it [00:00, ?it/s]"
      ]
     },
     "metadata": {},
     "output_type": "display_data"
    },
    {
     "data": {
      "application/vnd.jupyter.widget-view+json": {
       "model_id": "",
       "version_major": 2,
       "version_minor": 0
      },
      "text/plain": [
       "Validation: 0it [00:00, ?it/s]"
      ]
     },
     "metadata": {},
     "output_type": "display_data"
    },
    {
     "data": {
      "application/vnd.jupyter.widget-view+json": {
       "model_id": "",
       "version_major": 2,
       "version_minor": 0
      },
      "text/plain": [
       "Validation: 0it [00:00, ?it/s]"
      ]
     },
     "metadata": {},
     "output_type": "display_data"
    },
    {
     "data": {
      "application/vnd.jupyter.widget-view+json": {
       "model_id": "",
       "version_major": 2,
       "version_minor": 0
      },
      "text/plain": [
       "Validation: 0it [00:00, ?it/s]"
      ]
     },
     "metadata": {},
     "output_type": "display_data"
    },
    {
     "data": {
      "application/vnd.jupyter.widget-view+json": {
       "model_id": "",
       "version_major": 2,
       "version_minor": 0
      },
      "text/plain": [
       "Validation: 0it [00:00, ?it/s]"
      ]
     },
     "metadata": {},
     "output_type": "display_data"
    },
    {
     "data": {
      "application/vnd.jupyter.widget-view+json": {
       "model_id": "",
       "version_major": 2,
       "version_minor": 0
      },
      "text/plain": [
       "Validation: 0it [00:00, ?it/s]"
      ]
     },
     "metadata": {},
     "output_type": "display_data"
    },
    {
     "data": {
      "application/vnd.jupyter.widget-view+json": {
       "model_id": "",
       "version_major": 2,
       "version_minor": 0
      },
      "text/plain": [
       "Validation: 0it [00:00, ?it/s]"
      ]
     },
     "metadata": {},
     "output_type": "display_data"
    },
    {
     "data": {
      "application/vnd.jupyter.widget-view+json": {
       "model_id": "",
       "version_major": 2,
       "version_minor": 0
      },
      "text/plain": [
       "Validation: 0it [00:00, ?it/s]"
      ]
     },
     "metadata": {},
     "output_type": "display_data"
    },
    {
     "data": {
      "application/vnd.jupyter.widget-view+json": {
       "model_id": "",
       "version_major": 2,
       "version_minor": 0
      },
      "text/plain": [
       "Validation: 0it [00:00, ?it/s]"
      ]
     },
     "metadata": {},
     "output_type": "display_data"
    },
    {
     "data": {
      "application/vnd.jupyter.widget-view+json": {
       "model_id": "",
       "version_major": 2,
       "version_minor": 0
      },
      "text/plain": [
       "Validation: 0it [00:00, ?it/s]"
      ]
     },
     "metadata": {},
     "output_type": "display_data"
    },
    {
     "data": {
      "application/vnd.jupyter.widget-view+json": {
       "model_id": "",
       "version_major": 2,
       "version_minor": 0
      },
      "text/plain": [
       "Validation: 0it [00:00, ?it/s]"
      ]
     },
     "metadata": {},
     "output_type": "display_data"
    },
    {
     "data": {
      "application/vnd.jupyter.widget-view+json": {
       "model_id": "",
       "version_major": 2,
       "version_minor": 0
      },
      "text/plain": [
       "Validation: 0it [00:00, ?it/s]"
      ]
     },
     "metadata": {},
     "output_type": "display_data"
    },
    {
     "data": {
      "application/vnd.jupyter.widget-view+json": {
       "model_id": "",
       "version_major": 2,
       "version_minor": 0
      },
      "text/plain": [
       "Validation: 0it [00:00, ?it/s]"
      ]
     },
     "metadata": {},
     "output_type": "display_data"
    },
    {
     "data": {
      "application/vnd.jupyter.widget-view+json": {
       "model_id": "",
       "version_major": 2,
       "version_minor": 0
      },
      "text/plain": [
       "Validation: 0it [00:00, ?it/s]"
      ]
     },
     "metadata": {},
     "output_type": "display_data"
    },
    {
     "data": {
      "application/vnd.jupyter.widget-view+json": {
       "model_id": "",
       "version_major": 2,
       "version_minor": 0
      },
      "text/plain": [
       "Validation: 0it [00:00, ?it/s]"
      ]
     },
     "metadata": {},
     "output_type": "display_data"
    },
    {
     "data": {
      "application/vnd.jupyter.widget-view+json": {
       "model_id": "",
       "version_major": 2,
       "version_minor": 0
      },
      "text/plain": [
       "Validation: 0it [00:00, ?it/s]"
      ]
     },
     "metadata": {},
     "output_type": "display_data"
    },
    {
     "data": {
      "application/vnd.jupyter.widget-view+json": {
       "model_id": "",
       "version_major": 2,
       "version_minor": 0
      },
      "text/plain": [
       "Validation: 0it [00:00, ?it/s]"
      ]
     },
     "metadata": {},
     "output_type": "display_data"
    },
    {
     "data": {
      "application/vnd.jupyter.widget-view+json": {
       "model_id": "",
       "version_major": 2,
       "version_minor": 0
      },
      "text/plain": [
       "Validation: 0it [00:00, ?it/s]"
      ]
     },
     "metadata": {},
     "output_type": "display_data"
    },
    {
     "data": {
      "application/vnd.jupyter.widget-view+json": {
       "model_id": "",
       "version_major": 2,
       "version_minor": 0
      },
      "text/plain": [
       "Validation: 0it [00:00, ?it/s]"
      ]
     },
     "metadata": {},
     "output_type": "display_data"
    },
    {
     "data": {
      "application/vnd.jupyter.widget-view+json": {
       "model_id": "",
       "version_major": 2,
       "version_minor": 0
      },
      "text/plain": [
       "Validation: 0it [00:00, ?it/s]"
      ]
     },
     "metadata": {},
     "output_type": "display_data"
    },
    {
     "data": {
      "application/vnd.jupyter.widget-view+json": {
       "model_id": "",
       "version_major": 2,
       "version_minor": 0
      },
      "text/plain": [
       "Validation: 0it [00:00, ?it/s]"
      ]
     },
     "metadata": {},
     "output_type": "display_data"
    },
    {
     "data": {
      "application/vnd.jupyter.widget-view+json": {
       "model_id": "",
       "version_major": 2,
       "version_minor": 0
      },
      "text/plain": [
       "Validation: 0it [00:00, ?it/s]"
      ]
     },
     "metadata": {},
     "output_type": "display_data"
    },
    {
     "data": {
      "application/vnd.jupyter.widget-view+json": {
       "model_id": "",
       "version_major": 2,
       "version_minor": 0
      },
      "text/plain": [
       "Validation: 0it [00:00, ?it/s]"
      ]
     },
     "metadata": {},
     "output_type": "display_data"
    },
    {
     "data": {
      "application/vnd.jupyter.widget-view+json": {
       "model_id": "",
       "version_major": 2,
       "version_minor": 0
      },
      "text/plain": [
       "Validation: 0it [00:00, ?it/s]"
      ]
     },
     "metadata": {},
     "output_type": "display_data"
    },
    {
     "data": {
      "application/vnd.jupyter.widget-view+json": {
       "model_id": "",
       "version_major": 2,
       "version_minor": 0
      },
      "text/plain": [
       "Validation: 0it [00:00, ?it/s]"
      ]
     },
     "metadata": {},
     "output_type": "display_data"
    },
    {
     "data": {
      "application/vnd.jupyter.widget-view+json": {
       "model_id": "",
       "version_major": 2,
       "version_minor": 0
      },
      "text/plain": [
       "Validation: 0it [00:00, ?it/s]"
      ]
     },
     "metadata": {},
     "output_type": "display_data"
    },
    {
     "data": {
      "application/vnd.jupyter.widget-view+json": {
       "model_id": "",
       "version_major": 2,
       "version_minor": 0
      },
      "text/plain": [
       "Validation: 0it [00:00, ?it/s]"
      ]
     },
     "metadata": {},
     "output_type": "display_data"
    },
    {
     "data": {
      "application/vnd.jupyter.widget-view+json": {
       "model_id": "",
       "version_major": 2,
       "version_minor": 0
      },
      "text/plain": [
       "Validation: 0it [00:00, ?it/s]"
      ]
     },
     "metadata": {},
     "output_type": "display_data"
    },
    {
     "data": {
      "application/vnd.jupyter.widget-view+json": {
       "model_id": "",
       "version_major": 2,
       "version_minor": 0
      },
      "text/plain": [
       "Validation: 0it [00:00, ?it/s]"
      ]
     },
     "metadata": {},
     "output_type": "display_data"
    },
    {
     "data": {
      "application/vnd.jupyter.widget-view+json": {
       "model_id": "",
       "version_major": 2,
       "version_minor": 0
      },
      "text/plain": [
       "Validation: 0it [00:00, ?it/s]"
      ]
     },
     "metadata": {},
     "output_type": "display_data"
    },
    {
     "data": {
      "application/vnd.jupyter.widget-view+json": {
       "model_id": "",
       "version_major": 2,
       "version_minor": 0
      },
      "text/plain": [
       "Validation: 0it [00:00, ?it/s]"
      ]
     },
     "metadata": {},
     "output_type": "display_data"
    },
    {
     "data": {
      "application/vnd.jupyter.widget-view+json": {
       "model_id": "",
       "version_major": 2,
       "version_minor": 0
      },
      "text/plain": [
       "Validation: 0it [00:00, ?it/s]"
      ]
     },
     "metadata": {},
     "output_type": "display_data"
    },
    {
     "data": {
      "application/vnd.jupyter.widget-view+json": {
       "model_id": "",
       "version_major": 2,
       "version_minor": 0
      },
      "text/plain": [
       "Validation: 0it [00:00, ?it/s]"
      ]
     },
     "metadata": {},
     "output_type": "display_data"
    },
    {
     "data": {
      "application/vnd.jupyter.widget-view+json": {
       "model_id": "",
       "version_major": 2,
       "version_minor": 0
      },
      "text/plain": [
       "Validation: 0it [00:00, ?it/s]"
      ]
     },
     "metadata": {},
     "output_type": "display_data"
    },
    {
     "data": {
      "application/vnd.jupyter.widget-view+json": {
       "model_id": "",
       "version_major": 2,
       "version_minor": 0
      },
      "text/plain": [
       "Validation: 0it [00:00, ?it/s]"
      ]
     },
     "metadata": {},
     "output_type": "display_data"
    },
    {
     "data": {
      "application/vnd.jupyter.widget-view+json": {
       "model_id": "",
       "version_major": 2,
       "version_minor": 0
      },
      "text/plain": [
       "Validation: 0it [00:00, ?it/s]"
      ]
     },
     "metadata": {},
     "output_type": "display_data"
    },
    {
     "data": {
      "application/vnd.jupyter.widget-view+json": {
       "model_id": "",
       "version_major": 2,
       "version_minor": 0
      },
      "text/plain": [
       "Validation: 0it [00:00, ?it/s]"
      ]
     },
     "metadata": {},
     "output_type": "display_data"
    },
    {
     "data": {
      "application/vnd.jupyter.widget-view+json": {
       "model_id": "",
       "version_major": 2,
       "version_minor": 0
      },
      "text/plain": [
       "Validation: 0it [00:00, ?it/s]"
      ]
     },
     "metadata": {},
     "output_type": "display_data"
    },
    {
     "data": {
      "application/vnd.jupyter.widget-view+json": {
       "model_id": "",
       "version_major": 2,
       "version_minor": 0
      },
      "text/plain": [
       "Validation: 0it [00:00, ?it/s]"
      ]
     },
     "metadata": {},
     "output_type": "display_data"
    },
    {
     "data": {
      "application/vnd.jupyter.widget-view+json": {
       "model_id": "",
       "version_major": 2,
       "version_minor": 0
      },
      "text/plain": [
       "Validation: 0it [00:00, ?it/s]"
      ]
     },
     "metadata": {},
     "output_type": "display_data"
    },
    {
     "data": {
      "application/vnd.jupyter.widget-view+json": {
       "model_id": "",
       "version_major": 2,
       "version_minor": 0
      },
      "text/plain": [
       "Validation: 0it [00:00, ?it/s]"
      ]
     },
     "metadata": {},
     "output_type": "display_data"
    },
    {
     "data": {
      "application/vnd.jupyter.widget-view+json": {
       "model_id": "",
       "version_major": 2,
       "version_minor": 0
      },
      "text/plain": [
       "Validation: 0it [00:00, ?it/s]"
      ]
     },
     "metadata": {},
     "output_type": "display_data"
    },
    {
     "data": {
      "application/vnd.jupyter.widget-view+json": {
       "model_id": "",
       "version_major": 2,
       "version_minor": 0
      },
      "text/plain": [
       "Validation: 0it [00:00, ?it/s]"
      ]
     },
     "metadata": {},
     "output_type": "display_data"
    },
    {
     "data": {
      "application/vnd.jupyter.widget-view+json": {
       "model_id": "",
       "version_major": 2,
       "version_minor": 0
      },
      "text/plain": [
       "Validation: 0it [00:00, ?it/s]"
      ]
     },
     "metadata": {},
     "output_type": "display_data"
    },
    {
     "data": {
      "application/vnd.jupyter.widget-view+json": {
       "model_id": "",
       "version_major": 2,
       "version_minor": 0
      },
      "text/plain": [
       "Validation: 0it [00:00, ?it/s]"
      ]
     },
     "metadata": {},
     "output_type": "display_data"
    },
    {
     "data": {
      "application/vnd.jupyter.widget-view+json": {
       "model_id": "",
       "version_major": 2,
       "version_minor": 0
      },
      "text/plain": [
       "Validation: 0it [00:00, ?it/s]"
      ]
     },
     "metadata": {},
     "output_type": "display_data"
    },
    {
     "data": {
      "application/vnd.jupyter.widget-view+json": {
       "model_id": "",
       "version_major": 2,
       "version_minor": 0
      },
      "text/plain": [
       "Validation: 0it [00:00, ?it/s]"
      ]
     },
     "metadata": {},
     "output_type": "display_data"
    },
    {
     "data": {
      "application/vnd.jupyter.widget-view+json": {
       "model_id": "",
       "version_major": 2,
       "version_minor": 0
      },
      "text/plain": [
       "Validation: 0it [00:00, ?it/s]"
      ]
     },
     "metadata": {},
     "output_type": "display_data"
    },
    {
     "data": {
      "application/vnd.jupyter.widget-view+json": {
       "model_id": "",
       "version_major": 2,
       "version_minor": 0
      },
      "text/plain": [
       "Validation: 0it [00:00, ?it/s]"
      ]
     },
     "metadata": {},
     "output_type": "display_data"
    },
    {
     "data": {
      "application/vnd.jupyter.widget-view+json": {
       "model_id": "",
       "version_major": 2,
       "version_minor": 0
      },
      "text/plain": [
       "Validation: 0it [00:00, ?it/s]"
      ]
     },
     "metadata": {},
     "output_type": "display_data"
    },
    {
     "data": {
      "application/vnd.jupyter.widget-view+json": {
       "model_id": "",
       "version_major": 2,
       "version_minor": 0
      },
      "text/plain": [
       "Validation: 0it [00:00, ?it/s]"
      ]
     },
     "metadata": {},
     "output_type": "display_data"
    },
    {
     "data": {
      "application/vnd.jupyter.widget-view+json": {
       "model_id": "",
       "version_major": 2,
       "version_minor": 0
      },
      "text/plain": [
       "Validation: 0it [00:00, ?it/s]"
      ]
     },
     "metadata": {},
     "output_type": "display_data"
    },
    {
     "data": {
      "application/vnd.jupyter.widget-view+json": {
       "model_id": "",
       "version_major": 2,
       "version_minor": 0
      },
      "text/plain": [
       "Validation: 0it [00:00, ?it/s]"
      ]
     },
     "metadata": {},
     "output_type": "display_data"
    },
    {
     "data": {
      "application/vnd.jupyter.widget-view+json": {
       "model_id": "",
       "version_major": 2,
       "version_minor": 0
      },
      "text/plain": [
       "Validation: 0it [00:00, ?it/s]"
      ]
     },
     "metadata": {},
     "output_type": "display_data"
    },
    {
     "data": {
      "application/vnd.jupyter.widget-view+json": {
       "model_id": "",
       "version_major": 2,
       "version_minor": 0
      },
      "text/plain": [
       "Validation: 0it [00:00, ?it/s]"
      ]
     },
     "metadata": {},
     "output_type": "display_data"
    },
    {
     "name": "stderr",
     "output_type": "stream",
     "text": [
      "WARNING - (py.warnings._showwarnmsg) - C:\\Users\\LYH\\AppData\\Local\\Programs\\Python\\Python310\\lib\\site-packages\\pytorch_lightning\\trainer\\trainer.py:653: UserWarning: Detected KeyboardInterrupt, attempting graceful shutdown...\n",
      "  rank_zero_warn(\"Detected KeyboardInterrupt, attempting graceful shutdown...\")\n",
      "\n"
     ]
    }
   ],
   "source": [
    "m = NeuralProphet(\n",
    "\n",
    "growth='off', # 추세 유형 설정(linear, discontinuous, off 중 선택 가능)\n",
    "\n",
    "yearly_seasonality=True, #년간 계절성 설정\n",
    "\n",
    "weekly_seasonality=True, #주간 계절성 설정\n",
    "\n",
    "daily_seasonality=True, #일간 계절성 설정\n",
    "\n",
    "optimizer= 'AdamW',\n",
    "    \n",
    "batch_size=128,#배치 사이즈 설정\n",
    "\n",
    "epochs=None,#학습 횟수 설정\n",
    "\n",
    "learning_rate=None, # 학습률 설정\n",
    "\n",
    "    \n",
    "\n",
    "\n",
    ")\n",
    "\n",
    "#독립 변인(변수) 추가 및 정규화\n",
    "m = m.add_lagged_regressor(names=col_lst, normalize=\"minmax\") \n",
    "m.add_seasonality(name='monthly', period=30.5, fourier_order=5)\n",
    "\n",
    "#학습 수행\n",
    "metrics = m.fit(train, freq='h', validation_df=test)"
   ]
  },
  {
   "cell_type": "code",
   "execution_count": 50,
   "id": "b28b7c85",
   "metadata": {
    "scrolled": true
   },
   "outputs": [
    {
     "data": {
      "text/html": [
       "<div>\n",
       "<style scoped>\n",
       "    .dataframe tbody tr th:only-of-type {\n",
       "        vertical-align: middle;\n",
       "    }\n",
       "\n",
       "    .dataframe tbody tr th {\n",
       "        vertical-align: top;\n",
       "    }\n",
       "\n",
       "    .dataframe thead th {\n",
       "        text-align: right;\n",
       "    }\n",
       "</style>\n",
       "<table border=\"1\" class=\"dataframe\">\n",
       "  <thead>\n",
       "    <tr style=\"text-align: right;\">\n",
       "      <th></th>\n",
       "      <th>MAE_val</th>\n",
       "      <th>RMSE_val</th>\n",
       "      <th>Loss_val</th>\n",
       "      <th>RegLoss_val</th>\n",
       "      <th>epoch</th>\n",
       "      <th>MAE</th>\n",
       "      <th>RMSE</th>\n",
       "      <th>Loss</th>\n",
       "      <th>RegLoss</th>\n",
       "    </tr>\n",
       "  </thead>\n",
       "  <tbody>\n",
       "    <tr>\n",
       "      <th>27</th>\n",
       "      <td>NaN</td>\n",
       "      <td>NaN</td>\n",
       "      <td>NaN</td>\n",
       "      <td>0.0</td>\n",
       "      <td>27</td>\n",
       "      <td>NaN</td>\n",
       "      <td>NaN</td>\n",
       "      <td>NaN</td>\n",
       "      <td>0.0</td>\n",
       "    </tr>\n",
       "    <tr>\n",
       "      <th>28</th>\n",
       "      <td>NaN</td>\n",
       "      <td>NaN</td>\n",
       "      <td>NaN</td>\n",
       "      <td>0.0</td>\n",
       "      <td>28</td>\n",
       "      <td>NaN</td>\n",
       "      <td>NaN</td>\n",
       "      <td>NaN</td>\n",
       "      <td>0.0</td>\n",
       "    </tr>\n",
       "    <tr>\n",
       "      <th>29</th>\n",
       "      <td>NaN</td>\n",
       "      <td>NaN</td>\n",
       "      <td>NaN</td>\n",
       "      <td>0.0</td>\n",
       "      <td>29</td>\n",
       "      <td>NaN</td>\n",
       "      <td>NaN</td>\n",
       "      <td>NaN</td>\n",
       "      <td>0.0</td>\n",
       "    </tr>\n",
       "  </tbody>\n",
       "</table>\n",
       "</div>"
      ],
      "text/plain": [
       "    MAE_val  RMSE_val  Loss_val  RegLoss_val  epoch  MAE  RMSE  Loss  RegLoss\n",
       "27      NaN       NaN       NaN          0.0     27  NaN   NaN   NaN      0.0\n",
       "28      NaN       NaN       NaN          0.0     28  NaN   NaN   NaN      0.0\n",
       "29      NaN       NaN       NaN          0.0     29  NaN   NaN   NaN      0.0"
      ]
     },
     "execution_count": 50,
     "metadata": {},
     "output_type": "execute_result"
    }
   ],
   "source": [
    "metrics.tail(3)"
   ]
  },
  {
   "cell_type": "code",
   "execution_count": 51,
   "id": "491b9c68",
   "metadata": {},
   "outputs": [
    {
     "data": {
      "application/vnd.jupyter.widget-view+json": {
       "model_id": "e77a1699a3e649998a8fd5c8aac88975",
       "version_major": 2,
       "version_minor": 0
      },
      "text/plain": [
       "Predicting: 35it [00:00, ?it/s]"
      ]
     },
     "metadata": {},
     "output_type": "display_data"
    },
    {
     "data": {
      "image/png": "[encoded data removed]",
      "text/plain": [
       "<Figure size 720x432 with 1 Axes>"
      ]
     },
     "metadata": {},
     "output_type": "display_data"
    }
   ],
   "source": [
    "#yhat1과 실제값 시각화(lag 데이터 포함x)\n",
    "forecast = m.predict(test)\n",
    "fig = m.plot(forecast[['ds', 'y', 'yhat1']])"
   ]
  },
  {
   "cell_type": "code",
   "execution_count": null,
   "id": "dd150f18",
   "metadata": {},
   "outputs": [],
   "source": [
    "#학습 선 그래프 생성\n",
    "px.line(metrics, y=['MAE', 'MAE_val'], width=800, height=400)"
   ]
  },
  {
   "cell_type": "code",
   "execution_count": null,
   "id": "5596301a",
   "metadata": {},
   "outputs": [],
   "source": [
    "##준영님이 주신 make future dataframe 코드입니다\n",
    "future = m.make_future_dataframe(data, periods = 365)\n",
    "#yhat1과 실제값 시각화(lag 데이터 포함x)\n",
    "forecast = m.predict(test)\n",
    "fig = m.plot(forecast[['ds', 'y', 'yhat1']])"
   ]
  },
  {
   "cell_type": "code",
   "execution_count": null,
   "id": "27cd702b",
   "metadata": {
    "scrolled": false
   },
   "outputs": [],
   "source": [
    "#학습 데이터셋 예측 결과 시각화\n",
    "train_pred = m.predict(train)\n",
    "#fig = m.plot(train_pred)\n",
    "fig1 = m.plot(train_pred)\n",
    "fig2 = m.plot(train_pred)\n",
    "#comp = m.plot_components(train_pred)\n",
    "param = m.plot_parameters()"
   ]
  },
  {
   "cell_type": "code",
   "execution_count": null,
   "id": "410e5f4d",
   "metadata": {
    "scrolled": false
   },
   "outputs": [],
   "source": [
    "#yhat1과 실제값 시각화(lag 데이터 포함O)\n",
    "forecast = m.predict(test)\n",
    "m = m.highlight_nth_step_ahead_of_each_forecast(1)\n",
    "fig = m.plot(forecast)"
   ]
  },
  {
   "cell_type": "code",
   "execution_count": null,
   "id": "9653ea9d",
   "metadata": {},
   "outputs": [],
   "source": []
  }
 ],
 "metadata": {
  "kernelspec": {
   "display_name": "Python 3",
   "language": "python",
   "name": "python3"
  },
  "language_info": {
   "codemirror_mode": {
    "name": "ipython",
    "version": 3
   },
   "file_extension": ".py",
   "mimetype": "text/x-python",
   "name": "python",
   "nbconvert_exporter": "python",
   "pygments_lexer": "ipython3",
   "version": "3.8.10 (tags/v3.8.10:3d8993a, May  3 2021, 11:48:03) [MSC v.1928 64 bit (AMD64)]"
  },
  "vscode": {
   "interpreter": {
    "hash": "bbfe6bb085aef4c2d2f691412fa41a654975dc46b0343b5cfb397e6a2eb78d21"
   }
  }
 },
 "nbformat": 4,
 "nbformat_minor": 5
}

{
 "cells": [
  {
   "cell_type": "code",
   "execution_count": 3,
   "id": "b51855ca",
   "metadata": {},
   "outputs": [],
   "source": [
    "import pandas as pd\n",
    "import numpy as np\n",
    "import random\n",
    "\n",
    "import torch\n",
    "import torch.nn as nn\n",
    "import torch.optim as optim\n",
    "import torch.nn.functional as F\n",
    "from torch.utils.data import TensorDataset, DataLoader\n",
    "\n",
    "from tqdm.auto import tqdm\n",
    "\n",
    "import warnings\n",
    "warnings.filterwarnings(action=\"ignore\")"
   ]
  },
  {
   "cell_type": "code",
   "execution_count": 4,
   "id": "a8144c14",
   "metadata": {},
   "outputs": [],
   "source": [
    "import matplotlib.pyplot as plt\n",
    "import seaborn as sns"
   ]
  },
  {
   "cell_type": "markdown",
   "id": "2902e869",
   "metadata": {},
   "source": [
    "# 여기에서 데이터 선택 -> 자동화 부탁"
   ]
  },
  {
   "cell_type": "code",
   "execution_count": 5,
   "id": "275acbb7",
   "metadata": {},
   "outputs": [],
   "source": [
    "total_df = pd.read_csv('../../data/merged_final.csv', index_col=0)"
   ]
  },
  {
   "cell_type": "code",
   "execution_count": 50,
   "id": "d1c57c1e",
   "metadata": {},
   "outputs": [
    {
     "data": {
      "text/html": [
       "<div>\n",
       "<style scoped>\n",
       "    .dataframe tbody tr th:only-of-type {\n",
       "        vertical-align: middle;\n",
       "    }\n",
       "\n",
       "    .dataframe tbody tr th {\n",
       "        vertical-align: top;\n",
       "    }\n",
       "\n",
       "    .dataframe thead th {\n",
       "        text-align: right;\n",
       "    }\n",
       "</style>\n",
       "<table border=\"1\" class=\"dataframe\">\n",
       "  <thead>\n",
       "    <tr style=\"text-align: right;\">\n",
       "      <th></th>\n",
       "      <th>air_GW</th>\n",
       "      <th>GW_demand</th>\n",
       "    </tr>\n",
       "  </thead>\n",
       "  <tbody>\n",
       "    <tr>\n",
       "      <th>0</th>\n",
       "      <td>42.0</td>\n",
       "      <td>0.592</td>\n",
       "    </tr>\n",
       "    <tr>\n",
       "      <th>1</th>\n",
       "      <td>43.0</td>\n",
       "      <td>0.840</td>\n",
       "    </tr>\n",
       "    <tr>\n",
       "      <th>2</th>\n",
       "      <td>34.0</td>\n",
       "      <td>0.828</td>\n",
       "    </tr>\n",
       "    <tr>\n",
       "      <th>3</th>\n",
       "      <td>44.0</td>\n",
       "      <td>0.792</td>\n",
       "    </tr>\n",
       "    <tr>\n",
       "      <th>4</th>\n",
       "      <td>64.0</td>\n",
       "      <td>0.818</td>\n",
       "    </tr>\n",
       "    <tr>\n",
       "      <th>...</th>\n",
       "      <td>...</td>\n",
       "      <td>...</td>\n",
       "    </tr>\n",
       "    <tr>\n",
       "      <th>1456</th>\n",
       "      <td>23.0</td>\n",
       "      <td>3.830</td>\n",
       "    </tr>\n",
       "    <tr>\n",
       "      <th>1457</th>\n",
       "      <td>42.0</td>\n",
       "      <td>4.510</td>\n",
       "    </tr>\n",
       "    <tr>\n",
       "      <th>1458</th>\n",
       "      <td>54.0</td>\n",
       "      <td>4.490</td>\n",
       "    </tr>\n",
       "    <tr>\n",
       "      <th>1459</th>\n",
       "      <td>26.0</td>\n",
       "      <td>4.444</td>\n",
       "    </tr>\n",
       "    <tr>\n",
       "      <th>1460</th>\n",
       "      <td>21.0</td>\n",
       "      <td>3.616</td>\n",
       "    </tr>\n",
       "  </tbody>\n",
       "</table>\n",
       "<p>1461 rows × 2 columns</p>\n",
       "</div>"
      ],
      "text/plain": [
       "      air_GW  GW_demand\n",
       "0       42.0      0.592\n",
       "1       43.0      0.840\n",
       "2       34.0      0.828\n",
       "3       44.0      0.792\n",
       "4       64.0      0.818\n",
       "...      ...        ...\n",
       "1456    23.0      3.830\n",
       "1457    42.0      4.510\n",
       "1458    54.0      4.490\n",
       "1459    26.0      4.444\n",
       "1460    21.0      3.616\n",
       "\n",
       "[1461 rows x 2 columns]"
      ]
     },
     "execution_count": 50,
     "metadata": {},
     "output_type": "execute_result"
    }
   ],
   "source": [
    "total_df[[\"air_GW\",total_df.columns[-4]]]"
   ]
  },
  {
   "cell_type": "code",
   "execution_count": 51,
   "id": "cac8e0a0",
   "metadata": {},
   "outputs": [],
   "source": [
    "def sample_multivariate(amount, total_df, target_df_columns):\n",
    "    samples = []\n",
    "    # 데이터프레임을 하나로 통합\n",
    "    df = total_df[target_df_columns]\n",
    "    columns = df.columns\n",
    "    if amount == 0:\n",
    "        # y값만 리턴\n",
    "        samples.append(df)\n",
    "    elif amount == 1:\n",
    "        # sample을 한 column씩 추출\n",
    "        for index in range(len(columns) - 1):\n",
    "            sample = df[[columns[index], columns[-1]]]\n",
    "            samples.append(sample)\n",
    "    elif amount == 2:\n",
    "        # sample을 두 column씩 추출\n",
    "        for first_index in range(len(columns)-1):\n",
    "            remaining_columns = columns[first_index+1:-1]\n",
    "            for second_index in range(len(remaining_columns)):\n",
    "                targets = [columns[first_index],remaining_columns[second_index],columns[-1]]\n",
    "                sample = df[targets]\n",
    "                samples.append(sample)\n",
    "    return samples"
   ]
  },
  {
   "cell_type": "code",
   "execution_count": 52,
   "id": "2abf6eeb",
   "metadata": {},
   "outputs": [],
   "source": [
    "def split_sample(df):\n",
    "    train = df.iloc[:1096]\n",
    "    test = df.iloc[1096:]\n",
    "    return {\"train\":train, \"test\":test}"
   ]
  },
  {
   "cell_type": "code",
   "execution_count": 66,
   "id": "81729088",
   "metadata": {},
   "outputs": [],
   "source": [
    "samples = sample_multivariate(1,total_df,['air_GW', 'real_pop_GW', 'pop_GW', 'pop_male_GW', 'pop_female_GW',\n",
    "       'mvpop_GW', 'station_GW', 'GW_demand'])"
   ]
  },
  {
   "cell_type": "code",
   "execution_count": 67,
   "id": "ec181786",
   "metadata": {},
   "outputs": [],
   "source": [
    "from sklearn.preprocessing import MinMaxScaler"
   ]
  },
  {
   "cell_type": "code",
   "execution_count": 68,
   "id": "a9a89157",
   "metadata": {},
   "outputs": [],
   "source": [
    "scaler_x = MinMaxScaler()\n",
    "scaler_y = MinMaxScaler()\n"
   ]
  },
  {
   "cell_type": "code",
   "execution_count": 69,
   "id": "3343fc9c",
   "metadata": {},
   "outputs": [],
   "source": [
    "scaled = []\n",
    "for sample in samples:\n",
    "    train_set = split_sample(sample)[\"train\"]\n",
    "    test_set = split_sample(sample)[\"test\"]\n",
    "    # Input scale\n",
    "    scaler_x.fit(sample.iloc[:, :-1])\n",
    "    train_set.iloc[:, :-1] = scaler_x.transform(train_set.iloc[:, :-1])\n",
    "    test_set.iloc[:, :-1] = scaler_x.transform(test_set.iloc[:, :-1])\n",
    "    # Output scale\n",
    "    scaler_y.fit(train_set.iloc[:, [-1]])\n",
    "    train_set.iloc[:, -1] = scaler_y.transform(train_set.iloc[:, [-1]])\n",
    "    test_set.iloc[:, -1] = scaler_y.transform(test_set.iloc[:, [-1]])\n",
    "    scaled.append({\"train\":train_set,\"test\":test_set})\n",
    "samples = scaled\n",
    "\n"
   ]
  },
  {
   "cell_type": "code",
   "execution_count": null,
   "id": "e774d619",
   "metadata": {},
   "outputs": [],
   "source": [
    "# 데이터셋 생성 함수\n",
    "def build_dataset(time_series, seq_length):\n",
    "    dataX = []\n",
    "    dataY = []\n",
    "    for i in range(0, len(time_series)-seq_length):\n",
    "        _x = time_series[i:i+seq_length, :]\n",
    "        _y = time_series[i+seq_length, [-1]]\n",
    "        # print(_x, \"-->\",_y)\n",
    "        dataX.append(_x)\n",
    "        dataY.append(_y)\n",
    "    return np.array(dataX), np.array(dataY)"
   ]
  },
  {
   "cell_type": "code",
   "execution_count": 70,
   "id": "8e6e7e67",
   "metadata": {},
   "outputs": [],
   "source": [
    "# 7일간의 데이터가 입력으로 들어가고 batch size는 임의로 지정\n",
    "seq_length = 7\n",
    "batch = 100"
   ]
  },
  {
   "cell_type": "code",
   "execution_count": null,
   "id": "7ce625fc",
   "metadata": {},
   "outputs": [],
   "source": [
    "# 설정값\n",
    "data_dim = len(samples[0][\"train\"].columns)\n",
    "hidden_dim = 10 \n",
    "output_dim = 1 \n",
    "learning_rate = 0.01\n",
    "nb_epochs = 500\n",
    "\n",
    "class Net(nn.Module):\n",
    "    # # 기본변수, layer를 초기화해주는 생성자\n",
    "    def __init__(self, input_dim, hidden_dim, seq_len, output_dim, layers):\n",
    "        super(Net, self).__init__()\n",
    "        self.hidden_dim = hidden_dim\n",
    "        self.seq_len = seq_len\n",
    "        self.output_dim = output_dim\n",
    "        self.layers = layers\n",
    "        \n",
    "        self.lstm = nn.LSTM(input_dim, hidden_dim, num_layers=layers,\n",
    "                            # dropout = 0.1,\n",
    "                            batch_first=True)\n",
    "        self.fc = nn.Linear(hidden_dim, output_dim, bias = True) \n",
    "        \n",
    "    # 학습 초기화를 위한 함수\n",
    "    def reset_hidden_state(self): \n",
    "        self.hidden = (\n",
    "                torch.zeros(self.layers, self.seq_len, self.hidden_dim),\n",
    "                torch.zeros(self.layers, self.seq_len, self.hidden_dim))\n",
    "    \n",
    "    # 예측을 위한 함수\n",
    "    def forward(self, x):\n",
    "        x, _status = self.lstm(x)\n",
    "        x = self.fc(x[:, -1])\n",
    "        return x"
   ]
  },
  {
   "cell_type": "code",
   "execution_count": null,
   "id": "a7980d51",
   "metadata": {},
   "outputs": [],
   "source": [
    "def train_model(model, train_df, num_epochs = None, lr = None, verbose = 10, patience = 10):\n",
    "     \n",
    "    criterion = nn.MSELoss().to(device)\n",
    "    optimizer = optim.Adam(model.parameters(), lr = learning_rate)\n",
    "    nb_epochs = num_epochs\n",
    "    \n",
    "    # epoch마다 loss 저장\n",
    "    train_hist = np.zeros(nb_epochs)\n",
    "\n",
    "    for epoch in range(nb_epochs):\n",
    "        avg_cost = 0\n",
    "        total_batch = len(train_df)\n",
    "        \n",
    "        for batch_idx, samples in enumerate(train_df):\n",
    "\n",
    "            x_train, y_train = samples\n",
    "            \n",
    "            # seq별 hidden state reset\n",
    "            model.reset_hidden_state()\n",
    "            \n",
    "            # H(x) 계산\n",
    "            outputs = model(x_train)\n",
    "                \n",
    "            # cost 계산\n",
    "            loss = criterion(outputs, y_train)                    \n",
    "            \n",
    "            # cost로 H(x) 개선\n",
    "            optimizer.zero_grad()\n",
    "            loss.backward()\n",
    "            optimizer.step()\n",
    "            \n",
    "            avg_cost += loss/total_batch\n",
    "               \n",
    "        train_hist[epoch] = avg_cost        \n",
    "        \n",
    "        if epoch % verbose == 0:\n",
    "            print('Epoch:', '%04d' % (epoch), 'train loss :', '{:.4f}'.format(avg_cost))\n",
    "            \n",
    "        # patience번째 마다 early stopping 여부 확인\n",
    "        if (epoch % patience == 0) & (epoch != 0):\n",
    "            \n",
    "            # loss가 커졌다면 early stop\n",
    "            if train_hist[epoch-patience] < train_hist[epoch]:\n",
    "                print('\\n Early Stopping')\n",
    "                \n",
    "                break\n",
    "            \n",
    "    return model.eval(), train_hist"
   ]
  },
  {
   "cell_type": "code",
   "execution_count": null,
   "id": "afdfcca0",
   "metadata": {},
   "outputs": [],
   "source": [
    "for index, sample in enumerate(samples):\n",
    "    trainX, trainY = build_dataset(np.array(train_set), seq_length)\n",
    "    testX, testY = build_dataset(np.array(test_set), seq_length)\n",
    "\n",
    "    # 텐서로 변환\n",
    "    trainX_tensor = torch.FloatTensor(trainX)\n",
    "    trainY_tensor = torch.FloatTensor(trainY)\n",
    "    testX_tensor = torch.FloatTensor(testX)\n",
    "    testY_tensor = torch.FloatTensor(testY)\n",
    "\n",
    "    # 텐서 형태로 데이터 정의\n",
    "    dataset = TensorDataset(trainX_tensor, trainY_tensor)\n",
    "\n",
    "    # 데이터로더는 기본적으로 2개의 인자를 입력받으며 배치크기는 통상적으로 2의 배수를 사용\n",
    "    dataloader = DataLoader(dataset,\n",
    "                        batch_size=batch,\n",
    "                        shuffle=True,  \n",
    "                        drop_last=True)\n",
    "    device = torch.device('cpu')\n",
    "    net = Net(data_dim, hidden_dim, seq_length, output_dim, 1).to(device)  \n",
    "    model, train_hist = train_model(net, dataloader, num_epochs = nb_epochs, lr = learning_rate, verbose = 20, patience = 10)\n",
    "\n",
    "    # 모델 저장    \n",
    "    PATH = f\"./Timeseries_LSTM_data-02-{index}.pth\"\n",
    "    torch.save(model.state_dict(), PATH)"
   ]
  },
  {
   "cell_type": "code",
   "execution_count": null,
   "id": "4558fd37",
   "metadata": {},
   "outputs": [],
   "source": [
    "# epoch별 손실값\n",
    "# fig = plt.figure(figsize=(10, 4))\n",
    "# plt.plot(train_hist, label=\"Training loss\")\n",
    "# plt.legend()\n",
    "# plt.show()"
   ]
  },
  {
   "cell_type": "code",
   "execution_count": 78,
   "id": "e5ca6170",
   "metadata": {},
   "outputs": [],
   "source": [
    "# 불러오기\n",
    "PATH = \"./Timeseries_LSTM_data-02-0.pth\"\n",
    "model = Net(data_dim, hidden_dim, seq_length, output_dim, 1).to(device)  \n",
    "model.load_state_dict(torch.load(PATH), strict=False)\n",
    "model.eval()"
   ]
  },
  {
   "cell_type": "code",
   "execution_count": 40,
   "id": "decb096c",
   "metadata": {},
   "outputs": [
    {
     "data": {
      "image/png": "[encoded data removed]",
      "text/plain": [
       "<Figure size 1000x400 with 1 Axes>"
      ]
     },
     "metadata": {},
     "output_type": "display_data"
    }
   ],
   "source": []
  },
  {
   "cell_type": "code",
   "execution_count": 41,
   "id": "4b143860",
   "metadata": {},
   "outputs": [
    {
     "data": {
      "text/plain": [
       "Net(\n",
       "  (lstm): LSTM(2, 10, batch_first=True)\n",
       "  (fc): Linear(in_features=10, out_features=1, bias=True)\n",
       ")"
      ]
     },
     "execution_count": 41,
     "metadata": {},
     "output_type": "execute_result"
    }
   ],
   "source": []
  },
  {
   "cell_type": "code",
   "execution_count": 42,
   "id": "f7334153",
   "metadata": {},
   "outputs": [
    {
     "name": "stdout",
     "output_type": "stream",
     "text": [
      "MAE SCORE :  1.834127604177201\n"
     ]
    }
   ],
   "source": [
    "# 예측 테스트\n",
    "with torch.no_grad(): \n",
    "    pred = []\n",
    "    for pr in range(len(testX_tensor)):\n",
    "\n",
    "        model.reset_hidden_state()\n",
    "\n",
    "        predicted = model(torch.unsqueeze(testX_tensor[pr], 0))\n",
    "        predicted = torch.flatten(predicted).item()\n",
    "        pred.append(predicted)\n",
    "\n",
    "    # INVERSE\n",
    "    pred_inverse = scaler_y.inverse_transform(np.array(pred).reshape(-1, 1))\n",
    "    testY_inverse = scaler_y.inverse_transform(testY_tensor)\n",
    "\n",
    "def MAE(true, pred):\n",
    "    return np.mean(np.abs(true-pred))\n",
    "\n",
    "print('MAE SCORE : ', MAE(pred_inverse, testY_inverse))"
   ]
  },
  {
   "cell_type": "code",
   "execution_count": 43,
   "id": "b080823a",
   "metadata": {},
   "outputs": [
    {
     "data": {
      "image/png": "[encoded data removed]",
      "text/plain": [
       "<Figure size 800x300 with 1 Axes>"
      ]
     },
     "metadata": {},
     "output_type": "display_data"
    }
   ],
   "source": [
    "fig = plt.figure(figsize=(8,3))\n",
    "plt.plot(np.arange(len(pred)), pred, label = 'pred')\n",
    "plt.plot(np.arange(len(testY)), testY, label = 'true')\n",
    "plt.title(\"Loss plot\")\n",
    "plt.show()"
   ]
  }
 ],
 "metadata": {
  "kernelspec": {
   "display_name": "Python 3",
   "language": "python",
   "name": "python3"
  },
  "language_info": {
   "codemirror_mode": {
    "name": "ipython",
    "version": 3
   },
   "file_extension": ".py",
   "mimetype": "text/x-python",
   "name": "python",
   "nbconvert_exporter": "python",
   "pygments_lexer": "ipython3",
   "version": "3.8.10"
  },
  "vscode": {
   "interpreter": {
    "hash": "bbfe6bb085aef4c2d2f691412fa41a654975dc46b0343b5cfb397e6a2eb78d21"
   }
  }
 },
 "nbformat": 4,
 "nbformat_minor": 5
}
